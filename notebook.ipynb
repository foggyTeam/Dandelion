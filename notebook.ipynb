{
 "cells": [
  {
   "cell_type": "markdown",
   "id": "70f4d52d",
   "metadata": {
    "papermill": {
     "duration": 0.010454,
     "end_time": "2025-03-20T20:23:40.118426",
     "exception": false,
     "start_time": "2025-03-20T20:23:40.107972",
     "status": "completed"
    },
    "tags": []
   },
   "source": [
    "# Data preprocessing"
   ]
  },
  {
   "cell_type": "markdown",
   "id": "dc9fc0bf",
   "metadata": {
    "papermill": {
     "duration": 0.009114,
     "end_time": "2025-03-20T20:23:40.137155",
     "exception": false,
     "start_time": "2025-03-20T20:23:40.128041",
     "status": "completed"
    },
    "tags": []
   },
   "source": [
    "Using dataset National Flowers, which has 9 classes of flowers:\n",
    "\n",
    "- daisy\n",
    "- dandelion\n",
    "- lavender\n",
    "- lilly\n",
    "- lotus\n",
    "- orchid\n",
    "- rose\n",
    "- sunflower\n",
    "- tulip\n",
    "---------"
   ]
  },
  {
   "cell_type": "markdown",
   "id": "c941ba01",
   "metadata": {
    "papermill": {
     "duration": 0.00907,
     "end_time": "2025-03-20T20:23:40.155592",
     "exception": false,
     "start_time": "2025-03-20T20:23:40.146522",
     "status": "completed"
    },
    "tags": []
   },
   "source": [
    "## Loading data"
   ]
  },
  {
   "cell_type": "markdown",
   "id": "cdd14491",
   "metadata": {
    "papermill": {
     "duration": 0.009031,
     "end_time": "2025-03-20T20:23:40.173890",
     "exception": false,
     "start_time": "2025-03-20T20:23:40.164859",
     "status": "completed"
    },
    "tags": []
   },
   "source": [
    "We need to load data and split it into 3 pieces:\n",
    "- 20% test\n",
    "- 16% validation\n",
    "- 64% train"
   ]
  },
  {
   "cell_type": "code",
   "execution_count": 1,
   "id": "dd13f545",
   "metadata": {
    "execution": {
     "iopub.execute_input": "2025-03-20T20:23:40.193430Z",
     "iopub.status.busy": "2025-03-20T20:23:40.193153Z",
     "iopub.status.idle": "2025-03-20T20:23:47.363272Z",
     "shell.execute_reply": "2025-03-20T20:23:47.362576Z"
    },
    "papermill": {
     "duration": 7.181695,
     "end_time": "2025-03-20T20:23:47.364799",
     "exception": false,
     "start_time": "2025-03-20T20:23:40.183104",
     "status": "completed"
    },
    "tags": []
   },
   "outputs": [],
   "source": [
    "import os\n",
    "import random\n",
    "import shutil\n",
    "import torch\n",
    "from torchvision import datasets, transforms\n",
    "from torch.utils.data import DataLoader, random_split, Subset"
   ]
  },
  {
   "cell_type": "code",
   "execution_count": 2,
   "id": "376e1589",
   "metadata": {
    "execution": {
     "iopub.execute_input": "2025-03-20T20:23:47.385355Z",
     "iopub.status.busy": "2025-03-20T20:23:47.385026Z",
     "iopub.status.idle": "2025-03-20T20:23:47.389894Z",
     "shell.execute_reply": "2025-03-20T20:23:47.389091Z"
    },
    "papermill": {
     "duration": 0.016316,
     "end_time": "2025-03-20T20:23:47.391253",
     "exception": false,
     "start_time": "2025-03-20T20:23:47.374937",
     "status": "completed"
    },
    "tags": []
   },
   "outputs": [],
   "source": [
    "# Train data normalizing and augmentation settings:\n",
    "train_transform = transforms.Compose([\n",
    "    transforms.Resize((224, 224)),\n",
    "    transforms.RandomHorizontalFlip(),\n",
    "    transforms.RandomVerticalFlip(),\n",
    "    transforms.RandomRotation(20),\n",
    "    transforms.RandomPerspective(distortion_scale=0.3, p=0.2),\n",
    "    transforms.ColorJitter(hue=0.05, saturation=0.05),\n",
    "    transforms.RandomGrayscale(p=0.1),\n",
    "    transforms.ToTensor(),\n",
    "    transforms.Normalize(mean=[0.485, 0.456, 0.406], std=[0.229, 0.224, 0.225])\n",
    "])"
   ]
  },
  {
   "cell_type": "code",
   "execution_count": 3,
   "id": "50037bfa",
   "metadata": {
    "execution": {
     "iopub.execute_input": "2025-03-20T20:23:47.410764Z",
     "iopub.status.busy": "2025-03-20T20:23:47.410491Z",
     "iopub.status.idle": "2025-03-20T20:23:47.414169Z",
     "shell.execute_reply": "2025-03-20T20:23:47.413404Z"
    },
    "papermill": {
     "duration": 0.014605,
     "end_time": "2025-03-20T20:23:47.415305",
     "exception": false,
     "start_time": "2025-03-20T20:23:47.400700",
     "status": "completed"
    },
    "tags": []
   },
   "outputs": [],
   "source": [
    "# Val and test data normalizing and augmentation settings:\n",
    "val_test_transform = transforms.Compose([\n",
    "    transforms.Resize((224, 224)),\n",
    "    transforms.ToTensor(),\n",
    "    transforms.Normalize(mean=[0.485, 0.456, 0.406], std=[0.229, 0.224, 0.225])\n",
    "])"
   ]
  },
  {
   "cell_type": "code",
   "execution_count": 4,
   "id": "f301fbdf",
   "metadata": {
    "execution": {
     "iopub.execute_input": "2025-03-20T20:23:47.434779Z",
     "iopub.status.busy": "2025-03-20T20:23:47.434477Z",
     "iopub.status.idle": "2025-03-20T20:23:47.443713Z",
     "shell.execute_reply": "2025-03-20T20:23:47.443109Z"
    },
    "papermill": {
     "duration": 0.020356,
     "end_time": "2025-03-20T20:23:47.445024",
     "exception": false,
     "start_time": "2025-03-20T20:23:47.424668",
     "status": "completed"
    },
    "tags": []
   },
   "outputs": [],
   "source": [
    "dataset_path = \"/kaggle/input/national-flowers-vdandelion/National Flowers vDandelion\"\n",
    "class_names = os.listdir(os.path.join(dataset_path, 'train'))\n",
    "number_of_classes = len(class_names)"
   ]
  },
  {
   "cell_type": "code",
   "execution_count": 5,
   "id": "1c6cee09",
   "metadata": {
    "execution": {
     "iopub.execute_input": "2025-03-20T20:23:47.464729Z",
     "iopub.status.busy": "2025-03-20T20:23:47.464441Z",
     "iopub.status.idle": "2025-03-20T20:23:55.066142Z",
     "shell.execute_reply": "2025-03-20T20:23:55.065411Z"
    },
    "papermill": {
     "duration": 7.613201,
     "end_time": "2025-03-20T20:23:55.067673",
     "exception": false,
     "start_time": "2025-03-20T20:23:47.454472",
     "status": "completed"
    },
    "tags": []
   },
   "outputs": [],
   "source": [
    "# 1. Load and transform as training all train data\n",
    "full_train_dataset = datasets.ImageFolder(\n",
    "    root=os.path.join(dataset_path, 'train'), transform=train_transform)"
   ]
  },
  {
   "cell_type": "code",
   "execution_count": 6,
   "id": "875e33da",
   "metadata": {
    "execution": {
     "iopub.execute_input": "2025-03-20T20:23:55.087442Z",
     "iopub.status.busy": "2025-03-20T20:23:55.087216Z",
     "iopub.status.idle": "2025-03-20T20:23:55.108570Z",
     "shell.execute_reply": "2025-03-20T20:23:55.107993Z"
    },
    "papermill": {
     "duration": 0.032489,
     "end_time": "2025-03-20T20:23:55.109778",
     "exception": false,
     "start_time": "2025-03-20T20:23:55.077289",
     "status": "completed"
    },
    "tags": []
   },
   "outputs": [],
   "source": [
    "# 2. Split train data into train and validation data\n",
    "train_size = int(0.8 * len(full_train_dataset))\n",
    "val_size = len(full_train_dataset) - train_size\n",
    "train_dataset, val_dataset = random_split(full_train_dataset, [train_size, val_size])"
   ]
  },
  {
   "cell_type": "code",
   "execution_count": 7,
   "id": "402f833e",
   "metadata": {
    "execution": {
     "iopub.execute_input": "2025-03-20T20:23:55.128732Z",
     "iopub.status.busy": "2025-03-20T20:23:55.128487Z",
     "iopub.status.idle": "2025-03-20T20:23:57.752444Z",
     "shell.execute_reply": "2025-03-20T20:23:57.751764Z"
    },
    "papermill": {
     "duration": 2.635187,
     "end_time": "2025-03-20T20:23:57.754048",
     "exception": false,
     "start_time": "2025-03-20T20:23:55.118861",
     "status": "completed"
    },
    "tags": []
   },
   "outputs": [],
   "source": [
    "# 3. Load and transform as validation only already splitted val data\n",
    "val_dataset = Subset(datasets.ImageFolder(\n",
    "    root=os.path.join(dataset_path, 'train'), transform=val_test_transform), val_dataset.indices)"
   ]
  },
  {
   "cell_type": "code",
   "execution_count": 8,
   "id": "eb9ac960",
   "metadata": {
    "execution": {
     "iopub.execute_input": "2025-03-20T20:23:57.774353Z",
     "iopub.status.busy": "2025-03-20T20:23:57.774093Z",
     "iopub.status.idle": "2025-03-20T20:23:59.791937Z",
     "shell.execute_reply": "2025-03-20T20:23:59.791217Z"
    },
    "papermill": {
     "duration": 2.029478,
     "end_time": "2025-03-20T20:23:59.793399",
     "exception": false,
     "start_time": "2025-03-20T20:23:57.763921",
     "status": "completed"
    },
    "tags": []
   },
   "outputs": [],
   "source": [
    "# 4. Load and transform as testing all test data\n",
    "test_dataset = datasets.ImageFolder(\n",
    "    root=os.path.join(dataset_path, 'test'), transform=val_test_transform)"
   ]
  },
  {
   "cell_type": "markdown",
   "id": "d698fd3e",
   "metadata": {
    "papermill": {
     "duration": 0.009032,
     "end_time": "2025-03-20T20:23:59.812257",
     "exception": false,
     "start_time": "2025-03-20T20:23:59.803225",
     "status": "completed"
    },
    "tags": []
   },
   "source": [
    "## Generating data batches"
   ]
  },
  {
   "cell_type": "code",
   "execution_count": 9,
   "id": "961f8f2d",
   "metadata": {
    "execution": {
     "iopub.execute_input": "2025-03-20T20:23:59.831296Z",
     "iopub.status.busy": "2025-03-20T20:23:59.831037Z",
     "iopub.status.idle": "2025-03-20T20:23:59.835228Z",
     "shell.execute_reply": "2025-03-20T20:23:59.834387Z"
    },
    "papermill": {
     "duration": 0.015146,
     "end_time": "2025-03-20T20:23:59.836477",
     "exception": false,
     "start_time": "2025-03-20T20:23:59.821331",
     "status": "completed"
    },
    "tags": []
   },
   "outputs": [],
   "source": [
    "train_loader = DataLoader(train_dataset, batch_size=32, shuffle=True)\n",
    "val_loader = DataLoader(val_dataset, batch_size=32, shuffle=False)\n",
    "test_loader = DataLoader(test_dataset, batch_size=32, shuffle=False)"
   ]
  },
  {
   "cell_type": "code",
   "execution_count": 10,
   "id": "aacad17b",
   "metadata": {
    "execution": {
     "iopub.execute_input": "2025-03-20T20:23:59.855631Z",
     "iopub.status.busy": "2025-03-20T20:23:59.855338Z",
     "iopub.status.idle": "2025-03-20T20:23:59.859675Z",
     "shell.execute_reply": "2025-03-20T20:23:59.858899Z"
    },
    "papermill": {
     "duration": 0.015374,
     "end_time": "2025-03-20T20:23:59.860883",
     "exception": false,
     "start_time": "2025-03-20T20:23:59.845509",
     "status": "completed"
    },
    "tags": []
   },
   "outputs": [],
   "source": [
    "# Function to colorize output\n",
    "def colored_print(text: str, color: str = 'grey'):\n",
    "    if color == 'grey':\n",
    "        print(f\"\\033[90m{text}\\033[0m\")\n",
    "    elif color == 'r':\n",
    "        print(f\"\\033[91m{text}\\033[0m\")\n",
    "    elif color == 'g':\n",
    "        print(f\"\\033[92m{text}\\033[0m\")\n",
    "    elif color == 'y':\n",
    "        print(f\"\\033[93m{text}\\033[0m\")\n",
    "    elif color == 'm':\n",
    "        print(f\"\\033[95m{text}\\033[0m\")\n",
    "    elif color == 'c':\n",
    "        print(f\"\\033[96m{text}\\033[0m\")"
   ]
  },
  {
   "cell_type": "markdown",
   "id": "55d7cc85",
   "metadata": {
    "papermill": {
     "duration": 0.009058,
     "end_time": "2025-03-20T20:23:59.879150",
     "exception": false,
     "start_time": "2025-03-20T20:23:59.870092",
     "status": "completed"
    },
    "tags": []
   },
   "source": [
    "## Saving and fetching best params"
   ]
  },
  {
   "cell_type": "code",
   "execution_count": 11,
   "id": "60913ccc",
   "metadata": {
    "execution": {
     "iopub.execute_input": "2025-03-20T20:23:59.898488Z",
     "iopub.status.busy": "2025-03-20T20:23:59.898261Z",
     "iopub.status.idle": "2025-03-20T20:23:59.901452Z",
     "shell.execute_reply": "2025-03-20T20:23:59.900535Z"
    },
    "papermill": {
     "duration": 0.014466,
     "end_time": "2025-03-20T20:23:59.902719",
     "exception": false,
     "start_time": "2025-03-20T20:23:59.888253",
     "status": "completed"
    },
    "tags": []
   },
   "outputs": [],
   "source": [
    "# Fetching best models' params from GitHub\n",
    "best_models_path = \"/kaggle/working/\""
   ]
  },
  {
   "cell_type": "markdown",
   "id": "85269a75",
   "metadata": {
    "papermill": {
     "duration": 0.008955,
     "end_time": "2025-03-20T20:23:59.920710",
     "exception": false,
     "start_time": "2025-03-20T20:23:59.911755",
     "status": "completed"
    },
    "tags": []
   },
   "source": [
    "# Building and training models"
   ]
  },
  {
   "cell_type": "markdown",
   "id": "2ea43afd",
   "metadata": {
    "papermill": {
     "duration": 0.010214,
     "end_time": "2025-03-20T20:23:59.939944",
     "exception": false,
     "start_time": "2025-03-20T20:23:59.929730",
     "status": "completed"
    },
    "tags": []
   },
   "source": [
    "We are going to build, train and score 4 models:\n",
    "\n",
    "- simple custom CNN model\n",
    "- pretrained ResNet50\n",
    "- pretrained MobileNet\n",
    "- pretrained EfficientNet"
   ]
  },
  {
   "cell_type": "markdown",
   "id": "cdeb43e3",
   "metadata": {
    "papermill": {
     "duration": 0.008832,
     "end_time": "2025-03-20T20:23:59.957948",
     "exception": false,
     "start_time": "2025-03-20T20:23:59.949116",
     "status": "completed"
    },
    "tags": []
   },
   "source": [
    "## Simple CNN"
   ]
  },
  {
   "cell_type": "code",
   "execution_count": 12,
   "id": "041923e4",
   "metadata": {
    "execution": {
     "iopub.execute_input": "2025-03-20T20:23:59.977111Z",
     "iopub.status.busy": "2025-03-20T20:23:59.976857Z",
     "iopub.status.idle": "2025-03-20T20:23:59.980152Z",
     "shell.execute_reply": "2025-03-20T20:23:59.979527Z"
    },
    "papermill": {
     "duration": 0.014357,
     "end_time": "2025-03-20T20:23:59.981285",
     "exception": false,
     "start_time": "2025-03-20T20:23:59.966928",
     "status": "completed"
    },
    "tags": []
   },
   "outputs": [],
   "source": [
    "import torch\n",
    "import torch.nn as nn\n",
    "import torch.optim as optim\n",
    "import torch.nn.functional as F\n",
    "from torch.utils.data import DataLoader"
   ]
  },
  {
   "cell_type": "code",
   "execution_count": 13,
   "id": "54c09f93",
   "metadata": {
    "execution": {
     "iopub.execute_input": "2025-03-20T20:24:00.000362Z",
     "iopub.status.busy": "2025-03-20T20:24:00.000162Z",
     "iopub.status.idle": "2025-03-20T20:24:00.004309Z",
     "shell.execute_reply": "2025-03-20T20:24:00.003717Z"
    },
    "papermill": {
     "duration": 0.01492,
     "end_time": "2025-03-20T20:24:00.005468",
     "exception": false,
     "start_time": "2025-03-20T20:23:59.990548",
     "status": "completed"
    },
    "tags": []
   },
   "outputs": [],
   "source": [
    "# Initialising a simple CNN model\n",
    "class SimpleCNN(nn.Module):\n",
    "    def __init__(self, number_of_classes):\n",
    "        super(SimpleCNN, self).__init__()\n",
    "        self.conv1 = nn.Conv2d(3, 32, kernel_size=3, stride=1, padding=1)\n",
    "        self.pool = nn.MaxPool2d(kernel_size=2, stride=2, padding=0)\n",
    "        self.fc1 = nn.Linear(32 * 112 * 112, number_of_classes)\n",
    "    \n",
    "    def forward(self, x):\n",
    "        x = self.pool(F.relu(self.conv1(x)))\n",
    "        x = x.view(-1, 32 * 112 * 112)\n",
    "        x = self.fc1(x)\n",
    "        return x"
   ]
  },
  {
   "cell_type": "code",
   "execution_count": 14,
   "id": "a7c8fc54",
   "metadata": {
    "execution": {
     "iopub.execute_input": "2025-03-20T20:24:00.024453Z",
     "iopub.status.busy": "2025-03-20T20:24:00.024261Z",
     "iopub.status.idle": "2025-03-20T20:43:35.528516Z",
     "shell.execute_reply": "2025-03-20T20:43:35.527545Z"
    },
    "papermill": {
     "duration": 1175.515366,
     "end_time": "2025-03-20T20:43:35.529899",
     "exception": false,
     "start_time": "2025-03-20T20:24:00.014533",
     "status": "completed"
    },
    "tags": []
   },
   "outputs": [
    {
     "name": "stdout",
     "output_type": "stream",
     "text": [
      "\u001b[92mSimple CNN\u001b[0m\n",
      "\u001b[90mUsing device: cuda\u001b[0m\n",
      "\n",
      "Epoch [1/20], Loss: 13.82\n",
      "Validation Loss: 5.93, Accuracy: 45.28\n",
      "\n",
      "Epoch [2/20], Loss: 4.64\n",
      "Validation Loss: 2.50, Accuracy: 47.57\n",
      "\n",
      "Epoch [3/20], Loss: 2.58\n",
      "Validation Loss: 1.79, Accuracy: 49.10\n",
      "\n",
      "Epoch [4/20], Loss: 1.95\n",
      "Validation Loss: 1.54, Accuracy: 52.64\n",
      "\n",
      "Epoch [5/20], Loss: 1.67\n",
      "Validation Loss: 1.35, Accuracy: 57.92\n",
      "\n",
      "Epoch [6/20], Loss: 1.58\n",
      "Validation Loss: 1.42, Accuracy: 57.43\n",
      "\n",
      "Epoch [7/20], Loss: 1.50\n",
      "Validation Loss: 1.36, Accuracy: 58.06\n",
      "\n",
      "Epoch [8/20], Loss: 1.46\n",
      "Validation Loss: 1.26, Accuracy: 59.72\n",
      "\n",
      "Epoch [9/20], Loss: 1.41\n",
      "Validation Loss: 1.30, Accuracy: 58.75\n",
      "\n",
      "Epoch [10/20], Loss: 1.40\n",
      "Validation Loss: 1.26, Accuracy: 61.11\n",
      "\n",
      "Epoch [11/20], Loss: 1.34\n",
      "Validation Loss: 1.32, Accuracy: 60.49\n",
      "\n",
      "Epoch [12/20], Loss: 1.38\n",
      "Validation Loss: 1.41, Accuracy: 55.56\n",
      "\n",
      "Epoch [13/20], Loss: 1.35\n",
      "Validation Loss: 1.29, Accuracy: 60.90\n",
      "\n",
      "Epoch [14/20], Loss: 1.34\n",
      "Validation Loss: 1.31, Accuracy: 59.58\n",
      "\n",
      "Epoch [15/20], Loss: 1.34\n",
      "Validation Loss: 1.26, Accuracy: 61.11\n",
      "\n",
      "Epoch [16/20], Loss: 1.31\n",
      "Validation Loss: 1.35, Accuracy: 57.36\n",
      "\n",
      "Epoch [17/20], Loss: 1.31\n",
      "Validation Loss: 1.34, Accuracy: 60.97\n",
      "\n",
      "Epoch [18/20], Loss: 1.32\n",
      "Validation Loss: 1.31, Accuracy: 58.68\n",
      "\n",
      "Epoch [19/20], Loss: 1.32\n",
      "Validation Loss: 1.27, Accuracy: 62.71\n",
      "\n",
      "Epoch [20/20], Loss: 1.32\n",
      "Validation Loss: 1.32, Accuracy: 60.76\n",
      "\u001b[92m\n",
      "Best accuracy achieved: 62.71\u001b[0m\n"
     ]
    }
   ],
   "source": [
    "def train_cnn():\n",
    "    colored_print(f'Simple CNN', 'g')\n",
    "    # using GPU if available\n",
    "    device = torch.device(\"cuda\" if torch.cuda.is_available() else \"cpu\")\n",
    "    colored_print(f'Using device: {device}')\n",
    "\n",
    "    cnn = SimpleCNN(number_of_classes).to(device)\n",
    "\n",
    "    # defining loss function and optimizer\n",
    "    criterion = nn.CrossEntropyLoss()\n",
    "    optimizer = optim.Adam(cnn.parameters(), lr=0.001)\n",
    "\n",
    "    # training a model\n",
    "    epochs = 20\n",
    "    best_cnn_params = dict({})\n",
    "    best_cnn_accuracy = 0\n",
    "    for epoch in range(epochs):\n",
    "        cnn.train()\n",
    "        running_loss = 0.0\n",
    "        \n",
    "        for images, labels in train_loader:\n",
    "            images, labels = images.to(device), labels.to(device)\n",
    "            \n",
    "            optimizer.zero_grad()\n",
    "            outputs = cnn(images)\n",
    "            loss = criterion(outputs, labels)\n",
    "            loss.backward()\n",
    "            optimizer.step()\n",
    "            running_loss += loss.item()\n",
    "\n",
    "        print(f'\\nEpoch [{epoch+1}/{epochs}], Loss: {running_loss/len(train_loader):.2f}')\n",
    "\n",
    "        # validation\n",
    "        cnn.eval()\n",
    "        val_loss = 0.0\n",
    "        correct = 0\n",
    "        total = 0\n",
    "        with torch.no_grad():\n",
    "            for images, labels in val_loader:\n",
    "                images, labels = images.to(device), labels.to(device)\n",
    "                \n",
    "                outputs = cnn(images)\n",
    "                loss = criterion(outputs, labels)\n",
    "                val_loss += loss.item()\n",
    "                _, predicted = torch.max(outputs.data, 1)\n",
    "                total += labels.size(0)\n",
    "                correct += (predicted == labels).sum().item()\n",
    "\n",
    "        validation_accuracy = 100 * correct / total\n",
    "        print(f'Validation Loss: {val_loss/len(val_loader):.2f}, Accuracy: {validation_accuracy:.2f}')\n",
    "        \n",
    "        # save params if accuracy is better\n",
    "        if validation_accuracy > best_cnn_accuracy:\n",
    "            best_cnn_accuracy = validation_accuracy\n",
    "            best_cnn_params = cnn.state_dict()\n",
    "            \n",
    "        \n",
    "    # load params with the best accuracy\n",
    "    cnn.load_state_dict(best_cnn_params)\n",
    "    colored_print(f'\\nBest accuracy achieved: {best_cnn_accuracy:.2f}', 'g')\n",
    "    return cnn\n",
    "    \n",
    "cnn = train_cnn()"
   ]
  },
  {
   "cell_type": "code",
   "execution_count": 15,
   "id": "55f55dca",
   "metadata": {
    "execution": {
     "iopub.execute_input": "2025-03-20T20:43:35.553024Z",
     "iopub.status.busy": "2025-03-20T20:43:35.552759Z",
     "iopub.status.idle": "2025-03-20T20:43:35.581115Z",
     "shell.execute_reply": "2025-03-20T20:43:35.580253Z"
    },
    "papermill": {
     "duration": 0.041146,
     "end_time": "2025-03-20T20:43:35.582421",
     "exception": false,
     "start_time": "2025-03-20T20:43:35.541275",
     "status": "completed"
    },
    "tags": []
   },
   "outputs": [],
   "source": [
    "torch.save(cnn.state_dict(), os.path.join(best_models_path, 'cnn.pth'))"
   ]
  },
  {
   "cell_type": "markdown",
   "id": "0211a837",
   "metadata": {
    "papermill": {
     "duration": 0.010836,
     "end_time": "2025-03-20T20:43:35.604398",
     "exception": false,
     "start_time": "2025-03-20T20:43:35.593562",
     "status": "completed"
    },
    "tags": []
   },
   "source": [
    "## ResNet50"
   ]
  },
  {
   "cell_type": "code",
   "execution_count": 16,
   "id": "21eafc6f",
   "metadata": {
    "execution": {
     "iopub.execute_input": "2025-03-20T20:43:35.627252Z",
     "iopub.status.busy": "2025-03-20T20:43:35.627011Z",
     "iopub.status.idle": "2025-03-20T20:43:35.630334Z",
     "shell.execute_reply": "2025-03-20T20:43:35.629529Z"
    },
    "papermill": {
     "duration": 0.016192,
     "end_time": "2025-03-20T20:43:35.631462",
     "exception": false,
     "start_time": "2025-03-20T20:43:35.615270",
     "status": "completed"
    },
    "tags": []
   },
   "outputs": [],
   "source": [
    "import torch\n",
    "import torch.optim as optim\n",
    "import torchvision.models as models"
   ]
  },
  {
   "cell_type": "code",
   "execution_count": 17,
   "id": "2efc4c19",
   "metadata": {
    "execution": {
     "iopub.execute_input": "2025-03-20T20:43:35.654001Z",
     "iopub.status.busy": "2025-03-20T20:43:35.653776Z",
     "iopub.status.idle": "2025-03-20T20:43:36.852076Z",
     "shell.execute_reply": "2025-03-20T20:43:36.851175Z"
    },
    "papermill": {
     "duration": 1.211133,
     "end_time": "2025-03-20T20:43:36.853556",
     "exception": false,
     "start_time": "2025-03-20T20:43:35.642423",
     "status": "completed"
    },
    "tags": []
   },
   "outputs": [
    {
     "name": "stderr",
     "output_type": "stream",
     "text": [
      "/usr/local/lib/python3.10/dist-packages/torchvision/models/_utils.py:208: UserWarning: The parameter 'pretrained' is deprecated since 0.13 and may be removed in the future, please use 'weights' instead.\n",
      "  warnings.warn(\n",
      "/usr/local/lib/python3.10/dist-packages/torchvision/models/_utils.py:223: UserWarning: Arguments other than a weight enum or `None` for 'weights' are deprecated since 0.13 and may be removed in the future. The current behavior is equivalent to passing `weights=ResNet50_Weights.IMAGENET1K_V1`. You can also use `weights=ResNet50_Weights.DEFAULT` to get the most up-to-date weights.\n",
      "  warnings.warn(msg)\n",
      "Downloading: \"https://download.pytorch.org/models/resnet50-0676ba61.pth\" to /root/.cache/torch/hub/checkpoints/resnet50-0676ba61.pth\n",
      "100%|██████████| 97.8M/97.8M [00:00<00:00, 196MB/s]\n"
     ]
    }
   ],
   "source": [
    "# Initialising a ResNet50 model\n",
    "resnet50 = models.resnet50(pretrained=True)\n",
    "number_of_features = resnet50.fc.in_features\n",
    "resnet50.fc = nn.Linear(number_of_features, number_of_classes)"
   ]
  },
  {
   "cell_type": "code",
   "execution_count": 18,
   "id": "7847b009",
   "metadata": {
    "execution": {
     "iopub.execute_input": "2025-03-20T20:43:36.878742Z",
     "iopub.status.busy": "2025-03-20T20:43:36.878427Z",
     "iopub.status.idle": "2025-03-20T21:51:22.842158Z",
     "shell.execute_reply": "2025-03-20T21:51:22.841326Z"
    },
    "papermill": {
     "duration": 4065.978009,
     "end_time": "2025-03-20T21:51:22.843676",
     "exception": false,
     "start_time": "2025-03-20T20:43:36.865667",
     "status": "completed"
    },
    "tags": []
   },
   "outputs": [
    {
     "name": "stdout",
     "output_type": "stream",
     "text": [
      "\u001b[92mResNet50\u001b[0m\n",
      "\u001b[90mUsing device: cuda\u001b[0m\n",
      "\n",
      "Epoch [1/50], Loss: 1.05\n",
      "Validation Loss: 0.57, Accuracy: 82.71\n",
      "\n",
      "Epoch [2/50], Loss: 0.67\n",
      "Validation Loss: 0.50, Accuracy: 83.54\n",
      "\n",
      "Epoch [3/50], Loss: 0.58\n",
      "Validation Loss: 0.44, Accuracy: 86.32\n",
      "\n",
      "Epoch [4/50], Loss: 0.54\n",
      "Validation Loss: 0.46, Accuracy: 84.86\n",
      "\n",
      "Epoch [5/50], Loss: 0.53\n",
      "Validation Loss: 0.43, Accuracy: 86.53\n",
      "\n",
      "Epoch [6/50], Loss: 0.51\n",
      "Validation Loss: 0.49, Accuracy: 83.96\n",
      "\n",
      "Epoch [7/50], Loss: 0.50\n",
      "Validation Loss: 0.41, Accuracy: 87.50\n",
      "\n",
      "Epoch [8/50], Loss: 0.50\n",
      "Validation Loss: 0.40, Accuracy: 87.64\n",
      "\n",
      "Epoch [9/50], Loss: 0.46\n",
      "Validation Loss: 0.40, Accuracy: 86.94\n",
      "\n",
      "Epoch [10/50], Loss: 0.47\n",
      "Validation Loss: 0.38, Accuracy: 87.85\n",
      "\u001b[93mUnfreezing all layers at epoch 10\u001b[0m\n",
      "\n",
      "Epoch [11/50], Loss: 0.46\n",
      "Validation Loss: 0.32, Accuracy: 90.49\n",
      "\n",
      "Epoch [12/50], Loss: 0.27\n",
      "Validation Loss: 0.25, Accuracy: 92.64\n",
      "\n",
      "Epoch [13/50], Loss: 0.21\n",
      "Validation Loss: 0.24, Accuracy: 92.71\n",
      "\n",
      "Epoch [14/50], Loss: 0.19\n",
      "Validation Loss: 0.27, Accuracy: 91.46\n",
      "\n",
      "Epoch [15/50], Loss: 0.16\n",
      "Validation Loss: 0.29, Accuracy: 92.22\n",
      "\n",
      "Epoch [16/50], Loss: 0.16\n",
      "Validation Loss: 0.33, Accuracy: 91.46\n",
      "\n",
      "Epoch [17/50], Loss: 0.15\n",
      "Validation Loss: 0.20, Accuracy: 94.79\n",
      "\n",
      "Epoch [18/50], Loss: 0.12\n",
      "Validation Loss: 0.28, Accuracy: 92.36\n",
      "\n",
      "Epoch [19/50], Loss: 0.12\n",
      "Validation Loss: 0.23, Accuracy: 93.40\n",
      "\n",
      "Epoch [20/50], Loss: 0.11\n",
      "Validation Loss: 0.26, Accuracy: 92.99\n",
      "\n",
      "Epoch [21/50], Loss: 0.09\n",
      "Validation Loss: 0.24, Accuracy: 93.82\n",
      "\n",
      "Epoch [22/50], Loss: 0.11\n",
      "Validation Loss: 0.23, Accuracy: 94.38\n",
      "\n",
      "Epoch [23/50], Loss: 0.10\n",
      "Validation Loss: 0.25, Accuracy: 94.44\n",
      "\n",
      "Epoch [24/50], Loss: 0.10\n",
      "Validation Loss: 0.30, Accuracy: 91.53\n",
      "\n",
      "Epoch [25/50], Loss: 0.10\n",
      "Validation Loss: 0.30, Accuracy: 93.33\n",
      "\n",
      "Epoch [26/50], Loss: 0.08\n",
      "Validation Loss: 0.28, Accuracy: 93.26\n",
      "\n",
      "Epoch [27/50], Loss: 0.10\n",
      "Validation Loss: 0.26, Accuracy: 93.82\n",
      "\n",
      "Epoch [28/50], Loss: 0.09\n",
      "Validation Loss: 0.23, Accuracy: 95.00\n",
      "\n",
      "Epoch [29/50], Loss: 0.07\n",
      "Validation Loss: 0.28, Accuracy: 94.17\n",
      "\n",
      "Epoch [30/50], Loss: 0.09\n",
      "Validation Loss: 0.26, Accuracy: 93.61\n",
      "\n",
      "Epoch [31/50], Loss: 0.07\n",
      "Validation Loss: 0.28, Accuracy: 94.17\n",
      "\n",
      "Epoch [32/50], Loss: 0.08\n",
      "Validation Loss: 0.26, Accuracy: 93.82\n",
      "\n",
      "Epoch [33/50], Loss: 0.07\n",
      "Validation Loss: 0.24, Accuracy: 94.44\n",
      "\n",
      "Epoch [34/50], Loss: 0.07\n",
      "Validation Loss: 0.26, Accuracy: 94.10\n",
      "\n",
      "Epoch [35/50], Loss: 0.08\n",
      "Validation Loss: 0.23, Accuracy: 94.72\n",
      "\n",
      "Epoch [36/50], Loss: 0.07\n",
      "Validation Loss: 0.31, Accuracy: 92.71\n",
      "\n",
      "Epoch [37/50], Loss: 0.09\n",
      "Validation Loss: 0.33, Accuracy: 92.64\n",
      "\n",
      "Epoch [38/50], Loss: 0.08\n",
      "Validation Loss: 0.26, Accuracy: 92.71\n",
      "\n",
      "Epoch [39/50], Loss: 0.06\n",
      "Validation Loss: 0.27, Accuracy: 94.31\n",
      "\n",
      "Epoch [40/50], Loss: 0.07\n",
      "Validation Loss: 0.24, Accuracy: 94.24\n",
      "\n",
      "Epoch [41/50], Loss: 0.07\n",
      "Validation Loss: 0.30, Accuracy: 93.61\n",
      "\n",
      "Epoch [42/50], Loss: 0.06\n",
      "Validation Loss: 0.24, Accuracy: 95.42\n",
      "\n",
      "Epoch [43/50], Loss: 0.05\n",
      "Validation Loss: 0.26, Accuracy: 93.82\n",
      "\n",
      "Epoch [44/50], Loss: 0.07\n",
      "Validation Loss: 0.25, Accuracy: 93.89\n",
      "\n",
      "Epoch [45/50], Loss: 0.06\n",
      "Validation Loss: 0.22, Accuracy: 95.00\n",
      "\n",
      "Epoch [46/50], Loss: 0.05\n",
      "Validation Loss: 0.23, Accuracy: 95.28\n",
      "\n",
      "Epoch [47/50], Loss: 0.05\n",
      "Validation Loss: 0.26, Accuracy: 94.72\n",
      "\n",
      "Epoch [48/50], Loss: 0.06\n",
      "Validation Loss: 0.28, Accuracy: 94.51\n",
      "\n",
      "Epoch [49/50], Loss: 0.04\n",
      "Validation Loss: 0.26, Accuracy: 94.51\n",
      "\n",
      "Epoch [50/50], Loss: 0.05\n",
      "Validation Loss: 0.29, Accuracy: 93.82\n",
      "\u001b[92m\n",
      "Best accuracy achieved: 95.42\u001b[0m\n"
     ]
    }
   ],
   "source": [
    "def train_resnet50(resnet50, train_loader, val_loader, unfreeze_at_epoch=10):\n",
    "    colored_print(f'ResNet50', 'g')\n",
    "    # using GPU if available\n",
    "    device = torch.device(\"cuda\" if torch.cuda.is_available() else \"cpu\")\n",
    "    colored_print(f'Using device: {device}')\n",
    "\n",
    "    resnet50 = resnet50.to(device)\n",
    "\n",
    "    # training last layers\n",
    "    for param in resnet50.parameters():\n",
    "        param.requires_grad = False\n",
    "    for param in resnet50.fc.parameters():\n",
    "        param.requires_grad = True\n",
    "\n",
    "    # defining loss function and optimizer\n",
    "    criterion = nn.CrossEntropyLoss()\n",
    "    optimizer = optim.Adam(filter(lambda p: p.requires_grad, resnet50.parameters()), lr=0.001)\n",
    "\n",
    "    # training a model\n",
    "    epochs = 50\n",
    "    best_resnet50_params = dict({})\n",
    "    best_resnet50_accuracy = 0\n",
    "    for epoch in range(epochs):\n",
    "        if epoch == unfreeze_at_epoch:\n",
    "            colored_print(f'Unfreezing all layers at epoch {unfreeze_at_epoch}', 'y')\n",
    "            for param in resnet50.parameters():\n",
    "                param.requires_grad = True\n",
    "            optimizer = optim.Adam(resnet50.parameters(), lr=0.0001)\n",
    "        \n",
    "        resnet50.train()\n",
    "        running_loss = 0.0\n",
    "        \n",
    "        for images, labels in train_loader:\n",
    "            images, labels = images.to(device), labels.to(device)\n",
    "            \n",
    "            optimizer.zero_grad()\n",
    "            outputs = resnet50(images)\n",
    "            loss = criterion(outputs, labels)\n",
    "            loss.backward()\n",
    "            optimizer.step()\n",
    "            running_loss += loss.item()\n",
    "\n",
    "        print(f'\\nEpoch [{epoch+1}/{epochs}], Loss: {running_loss/len(train_loader):.2f}')\n",
    "\n",
    "        # validation\n",
    "        resnet50.eval()\n",
    "        val_loss = 0.0\n",
    "        correct = 0\n",
    "        total = 0\n",
    "        with torch.no_grad():\n",
    "            for images, labels in val_loader:\n",
    "                images, labels = images.to(device), labels.to(device)\n",
    "                \n",
    "                outputs = resnet50(images)\n",
    "                loss = criterion(outputs, labels)\n",
    "                val_loss += loss.item()\n",
    "                _, predicted = torch.max(outputs.data, 1)\n",
    "                total += labels.size(0)\n",
    "                correct += (predicted == labels).sum().item()\n",
    "\n",
    "        validation_accuracy = 100 * correct / total\n",
    "        print(f'Validation Loss: {val_loss/len(val_loader):.2f}, Accuracy: {validation_accuracy:.2f}')\n",
    "        \n",
    "        # save params if accuracy is better\n",
    "        if validation_accuracy > best_resnet50_accuracy:\n",
    "            best_resnet50_accuracy = validation_accuracy\n",
    "            best_resnet50_params = resnet50.state_dict()\n",
    "        \n",
    "    # load params with the best accuracy\n",
    "    resnet50.load_state_dict(best_resnet50_params)\n",
    "    colored_print(f'\\nBest accuracy achieved: {best_resnet50_accuracy:.2f}', 'g')\n",
    "\n",
    "    return resnet50\n",
    "\n",
    "resnet50 = train_resnet50(resnet50, train_loader, val_loader)"
   ]
  },
  {
   "cell_type": "code",
   "execution_count": 19,
   "id": "5439682d",
   "metadata": {
    "execution": {
     "iopub.execute_input": "2025-03-20T21:51:22.877301Z",
     "iopub.status.busy": "2025-03-20T21:51:22.877065Z",
     "iopub.status.idle": "2025-03-20T21:51:23.021835Z",
     "shell.execute_reply": "2025-03-20T21:51:23.020864Z"
    },
    "papermill": {
     "duration": 0.16304,
     "end_time": "2025-03-20T21:51:23.023448",
     "exception": false,
     "start_time": "2025-03-20T21:51:22.860408",
     "status": "completed"
    },
    "tags": []
   },
   "outputs": [],
   "source": [
    "torch.save(resnet50.state_dict(), os.path.join(best_models_path, 'resnet50.pth'))"
   ]
  },
  {
   "cell_type": "markdown",
   "id": "5c481a40",
   "metadata": {
    "papermill": {
     "duration": 0.064432,
     "end_time": "2025-03-20T21:51:23.104587",
     "exception": false,
     "start_time": "2025-03-20T21:51:23.040155",
     "status": "completed"
    },
    "tags": []
   },
   "source": [
    "# Score models"
   ]
  },
  {
   "cell_type": "markdown",
   "id": "f6a19484",
   "metadata": {
    "papermill": {
     "duration": 0.015759,
     "end_time": "2025-03-20T21:51:23.136830",
     "exception": false,
     "start_time": "2025-03-20T21:51:23.121071",
     "status": "completed"
    },
    "tags": []
   },
   "source": [
    "*You need to initialize all models' classes.*\n",
    "\n",
    "- initialize a model's object\n",
    "- load best params from /best_models/model.pth\n",
    "- model is ready to be evaluated"
   ]
  },
  {
   "cell_type": "markdown",
   "id": "28a9915a",
   "metadata": {
    "papermill": {
     "duration": 0.015579,
     "end_time": "2025-03-20T21:51:23.168363",
     "exception": false,
     "start_time": "2025-03-20T21:51:23.152784",
     "status": "completed"
    },
    "tags": []
   },
   "source": [
    "## Score function"
   ]
  },
  {
   "cell_type": "code",
   "execution_count": 20,
   "id": "d6cdee74",
   "metadata": {
    "execution": {
     "iopub.execute_input": "2025-03-20T21:51:23.201133Z",
     "iopub.status.busy": "2025-03-20T21:51:23.200857Z",
     "iopub.status.idle": "2025-03-20T21:51:25.412224Z",
     "shell.execute_reply": "2025-03-20T21:51:25.411339Z"
    },
    "papermill": {
     "duration": 2.229415,
     "end_time": "2025-03-20T21:51:25.413733",
     "exception": false,
     "start_time": "2025-03-20T21:51:23.184318",
     "status": "completed"
    },
    "tags": []
   },
   "outputs": [],
   "source": [
    "from sklearn.metrics import accuracy_score, f1_score, confusion_matrix\n",
    "import numpy as np\n",
    "import matplotlib.pyplot as plt\n",
    "import seaborn as sns"
   ]
  },
  {
   "cell_type": "code",
   "execution_count": 21,
   "id": "1e7f7cc5",
   "metadata": {
    "execution": {
     "iopub.execute_input": "2025-03-20T21:51:25.446846Z",
     "iopub.status.busy": "2025-03-20T21:51:25.446471Z",
     "iopub.status.idle": "2025-03-20T21:51:25.452220Z",
     "shell.execute_reply": "2025-03-20T21:51:25.451621Z"
    },
    "papermill": {
     "duration": 0.023183,
     "end_time": "2025-03-20T21:51:25.453313",
     "exception": false,
     "start_time": "2025-03-20T21:51:25.430130",
     "status": "completed"
    },
    "tags": []
   },
   "outputs": [],
   "source": [
    "def score_model(model):\n",
    "    device = torch.device(\"cuda\" if torch.cuda.is_available() else \"cpu\")\n",
    "    \n",
    "    model.eval()\n",
    "    all_labels = []\n",
    "    all_predictions = []\n",
    "\n",
    "    with torch.no_grad():\n",
    "        for images, labels in test_loader:\n",
    "            images, labels = images.to(device), labels.to(device)\n",
    "            outputs = model(images)\n",
    "            _, predicted = torch.max(outputs, 1)\n",
    "            all_labels.extend(labels.cpu().numpy())\n",
    "            all_predictions.extend(predicted.cpu().numpy())\n",
    "\n",
    "    accuracy = accuracy_score(all_labels, all_predictions)\n",
    "    f1 = f1_score(all_labels, all_predictions, average='weighted')\n",
    "    conf_matrix = confusion_matrix(all_labels, all_predictions)\n",
    "    \n",
    "    return accuracy, f1, conf_matrix"
   ]
  },
  {
   "cell_type": "code",
   "execution_count": 22,
   "id": "19ef88d2",
   "metadata": {
    "execution": {
     "iopub.execute_input": "2025-03-20T21:51:25.485231Z",
     "iopub.status.busy": "2025-03-20T21:51:25.485032Z",
     "iopub.status.idle": "2025-03-20T21:51:25.488947Z",
     "shell.execute_reply": "2025-03-20T21:51:25.488341Z"
    },
    "papermill": {
     "duration": 0.021187,
     "end_time": "2025-03-20T21:51:25.490101",
     "exception": false,
     "start_time": "2025-03-20T21:51:25.468914",
     "status": "completed"
    },
    "tags": []
   },
   "outputs": [],
   "source": [
    "def plot_confusion_matrix(conf_matrix, model_name, accuracy):   \n",
    "    plt.figure(figsize=(10, 8))\n",
    "    sns.heatmap(conf_matrix, annot=True, fmt='d', cmap='viridis',\n",
    "                xticklabels=class_names, yticklabels=class_names)\n",
    "    plt.xlabel('PREDICTED')\n",
    "    plt.ylabel('TRUE')\n",
    "    plt.title(f'{model_name} Confusion Matrix')\n",
    "    \n",
    "    plt.text(0.5, -0.1, f'accuracy: {accuracy:.2f}', ha='center', va='center',\n",
    "             transform=plt.gca().transAxes, fontsize=10)\n",
    "    plt.show()"
   ]
  },
  {
   "cell_type": "markdown",
   "id": "08ed2da4",
   "metadata": {
    "papermill": {
     "duration": 0.015659,
     "end_time": "2025-03-20T21:51:25.521493",
     "exception": false,
     "start_time": "2025-03-20T21:51:25.505834",
     "status": "completed"
    },
    "tags": []
   },
   "source": [
    "## Score Simple CNN"
   ]
  },
  {
   "cell_type": "code",
   "execution_count": 23,
   "id": "d6191e7b",
   "metadata": {
    "execution": {
     "iopub.execute_input": "2025-03-20T21:51:25.553448Z",
     "iopub.status.busy": "2025-03-20T21:51:25.553250Z",
     "iopub.status.idle": "2025-03-20T21:51:25.591900Z",
     "shell.execute_reply": "2025-03-20T21:51:25.591104Z"
    },
    "papermill": {
     "duration": 0.055968,
     "end_time": "2025-03-20T21:51:25.593157",
     "exception": false,
     "start_time": "2025-03-20T21:51:25.537189",
     "status": "completed"
    },
    "tags": []
   },
   "outputs": [
    {
     "name": "stderr",
     "output_type": "stream",
     "text": [
      "<ipython-input-23-9274c6a94150>:6: FutureWarning: You are using `torch.load` with `weights_only=False` (the current default value), which uses the default pickle module implicitly. It is possible to construct malicious pickle data which will execute arbitrary code during unpickling (See https://github.com/pytorch/pytorch/blob/main/SECURITY.md#untrusted-models for more details). In a future release, the default value for `weights_only` will be flipped to `True`. This limits the functions that could be executed during unpickling. Arbitrary objects will no longer be allowed to be loaded via this mode unless they are explicitly allowlisted by the user via `torch.serialization.add_safe_globals`. We recommend you start setting `weights_only=True` for any use case where you don't have full control of the loaded file. Please open an issue on GitHub for any issues related to this experimental feature.\n",
      "  cnn.load_state_dict(torch.load(best_cnn_params_path))\n"
     ]
    },
    {
     "data": {
      "text/plain": [
       "<All keys matched successfully>"
      ]
     },
     "execution_count": 23,
     "metadata": {},
     "output_type": "execute_result"
    }
   ],
   "source": [
    "# path to best params\n",
    "best_cnn_params_path = os.path.join(best_models_path, 'cnn.pth')\n",
    "\n",
    "# load best params into model\n",
    "cnn = SimpleCNN(number_of_classes)\n",
    "cnn.load_state_dict(torch.load(best_cnn_params_path))"
   ]
  },
  {
   "cell_type": "code",
   "execution_count": 24,
   "id": "b303a06b",
   "metadata": {
    "execution": {
     "iopub.execute_input": "2025-03-20T21:51:25.626360Z",
     "iopub.status.busy": "2025-03-20T21:51:25.626145Z",
     "iopub.status.idle": "2025-03-20T21:51:25.633220Z",
     "shell.execute_reply": "2025-03-20T21:51:25.632558Z"
    },
    "papermill": {
     "duration": 0.02501,
     "end_time": "2025-03-20T21:51:25.634346",
     "exception": false,
     "start_time": "2025-03-20T21:51:25.609336",
     "status": "completed"
    },
    "tags": []
   },
   "outputs": [],
   "source": [
    "# use GPU if available\n",
    "device = torch.device(\"cuda\" if torch.cuda.is_available() else \"cpu\")\n",
    "cnn = cnn.to(device)\n",
    "\n",
    "# model is ready for use"
   ]
  },
  {
   "cell_type": "code",
   "execution_count": 25,
   "id": "a2c7ad31",
   "metadata": {
    "execution": {
     "iopub.execute_input": "2025-03-20T21:51:25.667228Z",
     "iopub.status.busy": "2025-03-20T21:51:25.667023Z",
     "iopub.status.idle": "2025-03-20T21:51:40.274725Z",
     "shell.execute_reply": "2025-03-20T21:51:40.273787Z"
    },
    "papermill": {
     "duration": 14.625971,
     "end_time": "2025-03-20T21:51:40.276395",
     "exception": false,
     "start_time": "2025-03-20T21:51:25.650424",
     "status": "completed"
    },
    "tags": []
   },
   "outputs": [],
   "source": [
    "cnn_accuracy, cnn_f1_score, cnn_confusion_matrix = score_model(cnn)"
   ]
  },
  {
   "cell_type": "code",
   "execution_count": 26,
   "id": "16a07561",
   "metadata": {
    "execution": {
     "iopub.execute_input": "2025-03-20T21:51:40.310007Z",
     "iopub.status.busy": "2025-03-20T21:51:40.309765Z",
     "iopub.status.idle": "2025-03-20T21:51:40.713063Z",
     "shell.execute_reply": "2025-03-20T21:51:40.712174Z"
    },
    "papermill": {
     "duration": 0.421393,
     "end_time": "2025-03-20T21:51:40.714581",
     "exception": false,
     "start_time": "2025-03-20T21:51:40.293188",
     "status": "completed"
    },
    "tags": []
   },
   "outputs": [
    {
     "name": "stdout",
     "output_type": "stream",
     "text": [
      "\u001b[92mAccuracy: 0.53, f1-score: 0.52\u001b[0m\n"
     ]
    },
    {
     "data": {
      "image/png": "[encoded data removed]",
      "text/plain": [
       "<Figure size 1000x800 with 2 Axes>"
      ]
     },
     "metadata": {},
     "output_type": "display_data"
    }
   ],
   "source": [
    "colored_print(f'Accuracy: {cnn_accuracy:.2f}, f1-score: {cnn_f1_score:.2f}', 'g')\n",
    "plot_confusion_matrix(cnn_confusion_matrix, 'Simple CNN', cnn_accuracy)"
   ]
  },
  {
   "cell_type": "markdown",
   "id": "2e37a209",
   "metadata": {
    "papermill": {
     "duration": 0.016827,
     "end_time": "2025-03-20T21:51:40.749552",
     "exception": false,
     "start_time": "2025-03-20T21:51:40.732725",
     "status": "completed"
    },
    "tags": []
   },
   "source": [
    "## Score ResNet50"
   ]
  },
  {
   "cell_type": "code",
   "execution_count": 27,
   "id": "932d41b4",
   "metadata": {
    "execution": {
     "iopub.execute_input": "2025-03-20T21:51:40.784521Z",
     "iopub.status.busy": "2025-03-20T21:51:40.784252Z",
     "iopub.status.idle": "2025-03-20T21:51:40.885765Z",
     "shell.execute_reply": "2025-03-20T21:51:40.884812Z"
    },
    "papermill": {
     "duration": 0.120569,
     "end_time": "2025-03-20T21:51:40.887094",
     "exception": false,
     "start_time": "2025-03-20T21:51:40.766525",
     "status": "completed"
    },
    "tags": []
   },
   "outputs": [
    {
     "name": "stderr",
     "output_type": "stream",
     "text": [
      "<ipython-input-27-cb2d8b196d9e>:5: FutureWarning: You are using `torch.load` with `weights_only=False` (the current default value), which uses the default pickle module implicitly. It is possible to construct malicious pickle data which will execute arbitrary code during unpickling (See https://github.com/pytorch/pytorch/blob/main/SECURITY.md#untrusted-models for more details). In a future release, the default value for `weights_only` will be flipped to `True`. This limits the functions that could be executed during unpickling. Arbitrary objects will no longer be allowed to be loaded via this mode unless they are explicitly allowlisted by the user via `torch.serialization.add_safe_globals`. We recommend you start setting `weights_only=True` for any use case where you don't have full control of the loaded file. Please open an issue on GitHub for any issues related to this experimental feature.\n",
      "  resnet50.load_state_dict(torch.load(best_resnet50_params_path))\n"
     ]
    },
    {
     "data": {
      "text/plain": [
       "<All keys matched successfully>"
      ]
     },
     "execution_count": 27,
     "metadata": {},
     "output_type": "execute_result"
    }
   ],
   "source": [
    "# path to best params\n",
    "best_resnet50_params_path = os.path.join(best_models_path, 'resnet50.pth')\n",
    "\n",
    "# load best params into model\n",
    "resnet50.load_state_dict(torch.load(best_resnet50_params_path))"
   ]
  },
  {
   "cell_type": "code",
   "execution_count": 28,
   "id": "37039f6e",
   "metadata": {
    "execution": {
     "iopub.execute_input": "2025-03-20T21:51:40.924214Z",
     "iopub.status.busy": "2025-03-20T21:51:40.923902Z",
     "iopub.status.idle": "2025-03-20T21:51:40.930812Z",
     "shell.execute_reply": "2025-03-20T21:51:40.929985Z"
    },
    "papermill": {
     "duration": 0.027047,
     "end_time": "2025-03-20T21:51:40.932240",
     "exception": false,
     "start_time": "2025-03-20T21:51:40.905193",
     "status": "completed"
    },
    "tags": []
   },
   "outputs": [],
   "source": [
    "# use GPU if available\n",
    "device = torch.device(\"cuda\" if torch.cuda.is_available() else \"cpu\")\n",
    "resnet50 = resnet50.to(device)\n",
    "\n",
    "# model is ready for use"
   ]
  },
  {
   "cell_type": "code",
   "execution_count": 29,
   "id": "77e71504",
   "metadata": {
    "execution": {
     "iopub.execute_input": "2025-03-20T21:51:40.968972Z",
     "iopub.status.busy": "2025-03-20T21:51:40.968679Z",
     "iopub.status.idle": "2025-03-20T21:51:50.432084Z",
     "shell.execute_reply": "2025-03-20T21:51:50.431365Z"
    },
    "papermill": {
     "duration": 9.483433,
     "end_time": "2025-03-20T21:51:50.433560",
     "exception": false,
     "start_time": "2025-03-20T21:51:40.950127",
     "status": "completed"
    },
    "tags": []
   },
   "outputs": [],
   "source": [
    "resnet50_accuracy, resnet50_f1_score, resnet50_confusion_matrix = score_model(resnet50)"
   ]
  },
  {
   "cell_type": "code",
   "execution_count": 30,
   "id": "d2e4d97c",
   "metadata": {
    "execution": {
     "iopub.execute_input": "2025-03-20T21:51:50.469832Z",
     "iopub.status.busy": "2025-03-20T21:51:50.469564Z",
     "iopub.status.idle": "2025-03-20T21:51:50.472564Z",
     "shell.execute_reply": "2025-03-20T21:51:50.471932Z"
    },
    "papermill": {
     "duration": 0.022263,
     "end_time": "2025-03-20T21:51:50.473830",
     "exception": false,
     "start_time": "2025-03-20T21:51:50.451567",
     "status": "completed"
    },
    "tags": []
   },
   "outputs": [],
   "source": [
    "# path to best params\n",
    "best_mobilenet_v2_params_path = os.path.join(best_models_path, 'mobilenet_v2.pth')"
   ]
  },
  {
   "cell_type": "code",
   "execution_count": 31,
   "id": "a43b23d9",
   "metadata": {
    "execution": {
     "iopub.execute_input": "2025-03-20T21:51:50.509117Z",
     "iopub.status.busy": "2025-03-20T21:51:50.508907Z",
     "iopub.status.idle": "2025-03-20T21:51:50.871342Z",
     "shell.execute_reply": "2025-03-20T21:51:50.870426Z"
    },
    "papermill": {
     "duration": 0.381646,
     "end_time": "2025-03-20T21:51:50.872776",
     "exception": false,
     "start_time": "2025-03-20T21:51:50.491130",
     "status": "completed"
    },
    "tags": []
   },
   "outputs": [
    {
     "name": "stdout",
     "output_type": "stream",
     "text": [
      "\u001b[92mAccuracy: 0.9128, f1-score: 0.9116\u001b[0m\n"
     ]
    },
    {
     "data": {
      "image/png": "[encoded data removed]",
      "text/plain": [
       "<Figure size 1000x800 with 2 Axes>"
      ]
     },
     "metadata": {},
     "output_type": "display_data"
    }
   ],
   "source": [
    "colored_print(f'Accuracy: {resnet50_accuracy:.4f}, f1-score: {resnet50_f1_score:.4f}', 'g')\n",
    "plot_confusion_matrix(resnet50_confusion_matrix, 'ResNet50', resnet50_accuracy)"
   ]
  },
  {
   "cell_type": "markdown",
   "id": "dba1ae36",
   "metadata": {
    "papermill": {
     "duration": 0.018623,
     "end_time": "2025-03-20T21:51:50.910621",
     "exception": false,
     "start_time": "2025-03-20T21:51:50.891998",
     "status": "completed"
    },
    "tags": []
   },
   "source": [
    "# MobileNet"
   ]
  },
  {
   "cell_type": "code",
   "execution_count": 32,
   "id": "43554c8c",
   "metadata": {
    "execution": {
     "iopub.execute_input": "2025-03-20T21:51:50.949206Z",
     "iopub.status.busy": "2025-03-20T21:51:50.948882Z",
     "iopub.status.idle": "2025-03-20T21:51:50.952489Z",
     "shell.execute_reply": "2025-03-20T21:51:50.951672Z"
    },
    "papermill": {
     "duration": 0.024406,
     "end_time": "2025-03-20T21:51:50.953820",
     "exception": false,
     "start_time": "2025-03-20T21:51:50.929414",
     "status": "completed"
    },
    "tags": []
   },
   "outputs": [],
   "source": [
    "import torchvision.models as models"
   ]
  },
  {
   "cell_type": "code",
   "execution_count": 33,
   "id": "525c68fc",
   "metadata": {
    "execution": {
     "iopub.execute_input": "2025-03-20T21:51:50.991455Z",
     "iopub.status.busy": "2025-03-20T21:51:50.991212Z",
     "iopub.status.idle": "2025-03-20T21:51:51.268069Z",
     "shell.execute_reply": "2025-03-20T21:51:51.266995Z"
    },
    "papermill": {
     "duration": 0.297198,
     "end_time": "2025-03-20T21:51:51.269535",
     "exception": false,
     "start_time": "2025-03-20T21:51:50.972337",
     "status": "completed"
    },
    "tags": []
   },
   "outputs": [
    {
     "name": "stderr",
     "output_type": "stream",
     "text": [
      "/usr/local/lib/python3.10/dist-packages/torchvision/models/_utils.py:208: UserWarning: The parameter 'pretrained' is deprecated since 0.13 and may be removed in the future, please use 'weights' instead.\n",
      "  warnings.warn(\n",
      "/usr/local/lib/python3.10/dist-packages/torchvision/models/_utils.py:223: UserWarning: Arguments other than a weight enum or `None` for 'weights' are deprecated since 0.13 and may be removed in the future. The current behavior is equivalent to passing `weights=MobileNet_V2_Weights.IMAGENET1K_V1`. You can also use `weights=MobileNet_V2_Weights.DEFAULT` to get the most up-to-date weights.\n",
      "  warnings.warn(msg)\n",
      "Downloading: \"https://download.pytorch.org/models/mobilenet_v2-b0353104.pth\" to /root/.cache/torch/hub/checkpoints/mobilenet_v2-b0353104.pth\n",
      "100%|██████████| 13.6M/13.6M [00:00<00:00, 191MB/s]\n"
     ]
    }
   ],
   "source": [
    "# Initialising MobileNetV2 model\n",
    "mobilenet_v2 = models.mobilenet_v2(pretrained=True)\n",
    "mobilenet_v2.classifier[1] = nn.Linear(mobilenet_v2.last_channel, number_of_classes)"
   ]
  },
  {
   "cell_type": "code",
   "execution_count": 34,
   "id": "4e9adf73",
   "metadata": {
    "execution": {
     "iopub.execute_input": "2025-03-20T21:51:51.310521Z",
     "iopub.status.busy": "2025-03-20T21:51:51.310260Z",
     "iopub.status.idle": "2025-03-20T21:51:51.314762Z",
     "shell.execute_reply": "2025-03-20T21:51:51.313944Z"
    },
    "papermill": {
     "duration": 0.025024,
     "end_time": "2025-03-20T21:51:51.316110",
     "exception": false,
     "start_time": "2025-03-20T21:51:51.291086",
     "status": "completed"
    },
    "tags": []
   },
   "outputs": [
    {
     "name": "stdout",
     "output_type": "stream",
     "text": [
      "\u001b[92mMobileNetV2\u001b[0m\n",
      "\u001b[90mUsing device: cuda\u001b[0m\n"
     ]
    }
   ],
   "source": [
    "colored_print(f'MobileNetV2', 'g')\n",
    "# using GPU if available\n",
    "device = torch.device(\"cuda\" if torch.cuda.is_available() else \"cpu\")\n",
    "colored_print(f'Using device: {device}')"
   ]
  },
  {
   "cell_type": "code",
   "execution_count": 35,
   "id": "7e39d7ba",
   "metadata": {
    "execution": {
     "iopub.execute_input": "2025-03-20T21:51:51.354077Z",
     "iopub.status.busy": "2025-03-20T21:51:51.353842Z",
     "iopub.status.idle": "2025-03-20T21:51:51.367579Z",
     "shell.execute_reply": "2025-03-20T21:51:51.366782Z"
    },
    "papermill": {
     "duration": 0.03411,
     "end_time": "2025-03-20T21:51:51.368887",
     "exception": false,
     "start_time": "2025-03-20T21:51:51.334777",
     "status": "completed"
    },
    "tags": []
   },
   "outputs": [],
   "source": [
    "mobilenet_v2 = mobilenet_v2.to(device)"
   ]
  },
  {
   "cell_type": "code",
   "execution_count": 36,
   "id": "95aee602",
   "metadata": {
    "execution": {
     "iopub.execute_input": "2025-03-20T21:51:51.406941Z",
     "iopub.status.busy": "2025-03-20T21:51:51.406701Z",
     "iopub.status.idle": "2025-03-20T21:51:51.410743Z",
     "shell.execute_reply": "2025-03-20T21:51:51.409937Z"
    },
    "papermill": {
     "duration": 0.024598,
     "end_time": "2025-03-20T21:51:51.411927",
     "exception": false,
     "start_time": "2025-03-20T21:51:51.387329",
     "status": "completed"
    },
    "tags": []
   },
   "outputs": [],
   "source": [
    "# training last layers\n",
    "for param in mobilenet_v2.parameters():\n",
    "    param.requires_grad = False\n",
    "for param in mobilenet_v2.classifier.parameters():\n",
    "    param.requires_grad = True"
   ]
  },
  {
   "cell_type": "code",
   "execution_count": 37,
   "id": "a97e6b8b",
   "metadata": {
    "execution": {
     "iopub.execute_input": "2025-03-20T21:51:51.449479Z",
     "iopub.status.busy": "2025-03-20T21:51:51.449252Z",
     "iopub.status.idle": "2025-03-20T21:51:51.453275Z",
     "shell.execute_reply": "2025-03-20T21:51:51.452466Z"
    },
    "papermill": {
     "duration": 0.024001,
     "end_time": "2025-03-20T21:51:51.454433",
     "exception": false,
     "start_time": "2025-03-20T21:51:51.430432",
     "status": "completed"
    },
    "tags": []
   },
   "outputs": [],
   "source": [
    "# defining loss function and optimizer\n",
    "criterion = nn.CrossEntropyLoss()\n",
    "optimizer = optim.Adam(mobilenet_v2.parameters(), lr=0.001)"
   ]
  },
  {
   "cell_type": "code",
   "execution_count": 38,
   "id": "3620a0ae",
   "metadata": {
    "execution": {
     "iopub.execute_input": "2025-03-20T21:51:51.492182Z",
     "iopub.status.busy": "2025-03-20T21:51:51.491955Z",
     "iopub.status.idle": "2025-03-20T22:46:52.005796Z",
     "shell.execute_reply": "2025-03-20T22:46:52.004817Z"
    },
    "papermill": {
     "duration": 3300.534712,
     "end_time": "2025-03-20T22:46:52.007475",
     "exception": false,
     "start_time": "2025-03-20T21:51:51.472763",
     "status": "completed"
    },
    "tags": []
   },
   "outputs": [
    {
     "name": "stdout",
     "output_type": "stream",
     "text": [
      "\n",
      "Epoch [1/50], Loss: 1.06\n",
      "Validation Loss: 0.59, Accuracy: 81.67\n",
      "\n",
      "Epoch [2/50], Loss: 0.69\n",
      "Validation Loss: 0.52, Accuracy: 82.85\n",
      "\n",
      "Epoch [3/50], Loss: 0.62\n",
      "Validation Loss: 0.46, Accuracy: 84.93\n",
      "\n",
      "Epoch [4/50], Loss: 0.58\n",
      "Validation Loss: 0.46, Accuracy: 84.65\n",
      "\n",
      "Epoch [5/50], Loss: 0.57\n",
      "Validation Loss: 0.45, Accuracy: 85.28\n",
      "\n",
      "Epoch [6/50], Loss: 0.56\n",
      "Validation Loss: 0.43, Accuracy: 85.35\n",
      "\n",
      "Epoch [7/50], Loss: 0.53\n",
      "Validation Loss: 0.43, Accuracy: 86.04\n",
      "\n",
      "Epoch [8/50], Loss: 0.53\n",
      "Validation Loss: 0.42, Accuracy: 86.32\n",
      "\n",
      "Epoch [9/50], Loss: 0.54\n",
      "Validation Loss: 0.46, Accuracy: 85.35\n",
      "\n",
      "Epoch [10/50], Loss: 0.55\n",
      "Validation Loss: 0.42, Accuracy: 86.46\n",
      "\u001b[93mUnfreezing all layers at epoch 10\u001b[0m\n",
      "\n",
      "Epoch [11/50], Loss: 0.47\n",
      "Validation Loss: 0.30, Accuracy: 90.14\n",
      "\n",
      "Epoch [12/50], Loss: 0.31\n",
      "Validation Loss: 0.28, Accuracy: 91.46\n",
      "\n",
      "Epoch [13/50], Loss: 0.25\n",
      "Validation Loss: 0.27, Accuracy: 91.74\n",
      "\n",
      "Epoch [14/50], Loss: 0.23\n",
      "Validation Loss: 0.25, Accuracy: 92.85\n",
      "\n",
      "Epoch [15/50], Loss: 0.19\n",
      "Validation Loss: 0.28, Accuracy: 92.36\n",
      "\n",
      "Epoch [16/50], Loss: 0.16\n",
      "Validation Loss: 0.24, Accuracy: 92.99\n",
      "\n",
      "Epoch [17/50], Loss: 0.14\n",
      "Validation Loss: 0.25, Accuracy: 93.33\n",
      "\n",
      "Epoch [18/50], Loss: 0.15\n",
      "Validation Loss: 0.25, Accuracy: 93.47\n",
      "\n",
      "Epoch [19/50], Loss: 0.14\n",
      "Validation Loss: 0.26, Accuracy: 92.99\n",
      "\n",
      "Epoch [20/50], Loss: 0.12\n",
      "Validation Loss: 0.25, Accuracy: 93.89\n",
      "\n",
      "Epoch [21/50], Loss: 0.10\n",
      "Validation Loss: 0.28, Accuracy: 93.61\n",
      "\n",
      "Epoch [22/50], Loss: 0.10\n",
      "Validation Loss: 0.25, Accuracy: 93.61\n",
      "\n",
      "Epoch [23/50], Loss: 0.10\n",
      "Validation Loss: 0.26, Accuracy: 94.10\n",
      "\n",
      "Epoch [24/50], Loss: 0.08\n",
      "Validation Loss: 0.23, Accuracy: 93.75\n",
      "\n",
      "Epoch [25/50], Loss: 0.09\n",
      "Validation Loss: 0.25, Accuracy: 93.68\n",
      "\n",
      "Epoch [26/50], Loss: 0.08\n",
      "Validation Loss: 0.29, Accuracy: 93.40\n",
      "\n",
      "Epoch [27/50], Loss: 0.08\n",
      "Validation Loss: 0.28, Accuracy: 93.54\n",
      "\n",
      "Epoch [28/50], Loss: 0.09\n",
      "Validation Loss: 0.30, Accuracy: 93.61\n",
      "\n",
      "Epoch [29/50], Loss: 0.08\n",
      "Validation Loss: 0.27, Accuracy: 93.82\n",
      "\n",
      "Epoch [30/50], Loss: 0.08\n",
      "Validation Loss: 0.28, Accuracy: 93.40\n",
      "\n",
      "Epoch [31/50], Loss: 0.07\n",
      "Validation Loss: 0.30, Accuracy: 93.61\n",
      "\n",
      "Epoch [32/50], Loss: 0.08\n",
      "Validation Loss: 0.29, Accuracy: 93.54\n",
      "\n",
      "Epoch [33/50], Loss: 0.06\n",
      "Validation Loss: 0.31, Accuracy: 93.96\n",
      "\n",
      "Epoch [34/50], Loss: 0.08\n",
      "Validation Loss: 0.30, Accuracy: 93.68\n",
      "\n",
      "Epoch [35/50], Loss: 0.06\n",
      "Validation Loss: 0.34, Accuracy: 93.12\n",
      "\n",
      "Epoch [36/50], Loss: 0.06\n",
      "Validation Loss: 0.26, Accuracy: 94.44\n",
      "\n",
      "Epoch [37/50], Loss: 0.07\n",
      "Validation Loss: 0.28, Accuracy: 94.44\n",
      "\n",
      "Epoch [38/50], Loss: 0.05\n",
      "Validation Loss: 0.30, Accuracy: 94.17\n",
      "\n",
      "Epoch [39/50], Loss: 0.06\n",
      "Validation Loss: 0.27, Accuracy: 94.31\n",
      "\n",
      "Epoch [40/50], Loss: 0.05\n",
      "Validation Loss: 0.30, Accuracy: 93.54\n",
      "\n",
      "Epoch [41/50], Loss: 0.06\n",
      "Validation Loss: 0.26, Accuracy: 94.93\n",
      "\n",
      "Epoch [42/50], Loss: 0.06\n",
      "Validation Loss: 0.28, Accuracy: 93.89\n",
      "\n",
      "Epoch [43/50], Loss: 0.06\n",
      "Validation Loss: 0.30, Accuracy: 93.54\n",
      "\n",
      "Epoch [44/50], Loss: 0.05\n",
      "Validation Loss: 0.27, Accuracy: 94.24\n",
      "\n",
      "Epoch [45/50], Loss: 0.04\n",
      "Validation Loss: 0.28, Accuracy: 93.89\n",
      "\n",
      "Epoch [46/50], Loss: 0.05\n",
      "Validation Loss: 0.30, Accuracy: 94.51\n",
      "\n",
      "Epoch [47/50], Loss: 0.05\n",
      "Validation Loss: 0.37, Accuracy: 93.06\n",
      "\n",
      "Epoch [48/50], Loss: 0.06\n",
      "Validation Loss: 0.30, Accuracy: 94.38\n",
      "\n",
      "Epoch [49/50], Loss: 0.06\n",
      "Validation Loss: 0.32, Accuracy: 93.40\n",
      "\n",
      "Epoch [50/50], Loss: 0.05\n",
      "Validation Loss: 0.32, Accuracy: 94.51\n"
     ]
    }
   ],
   "source": [
    "# training a model\n",
    "epochs = 50\n",
    "unfreeze_at_epoch = 10\n",
    "best_mobilenet_v2_params = dict({})\n",
    "best_mobilenet_v2_accuracy = 0\n",
    "\n",
    "for epoch in range(epochs):\n",
    "    if epoch == unfreeze_at_epoch:\n",
    "        colored_print(f'Unfreezing all layers at epoch {unfreeze_at_epoch}', 'y')\n",
    "        for param in mobilenet_v2.parameters():\n",
    "            param.requires_grad = True\n",
    "        optimizer = optim.Adam(mobilenet_v2.parameters(), lr=0.0001)\n",
    "        \n",
    "    mobilenet_v2.train()\n",
    "    running_loss = 0.0\n",
    "    \n",
    "    for images, labels in train_loader:\n",
    "        images, labels = images.to(device), labels.to(device)\n",
    "        \n",
    "        optimizer.zero_grad()\n",
    "        outputs = mobilenet_v2(images)\n",
    "        loss = criterion(outputs, labels)\n",
    "        loss.backward()\n",
    "        optimizer.step()\n",
    "        running_loss += loss.item()\n",
    "\n",
    "    print(f'\\nEpoch [{epoch+1}/{epochs}], Loss: {running_loss/len(train_loader):.2f}')\n",
    "\n",
    "    # validation\n",
    "    mobilenet_v2.eval()\n",
    "    val_loss = 0.0\n",
    "    correct = 0\n",
    "    total = 0\n",
    "    with torch.no_grad():\n",
    "        for images, labels in val_loader:\n",
    "            images, labels = images.to(device), labels.to(device)\n",
    "            \n",
    "            outputs = mobilenet_v2(images)\n",
    "            loss = criterion(outputs, labels)\n",
    "            val_loss += loss.item()\n",
    "            _, predicted = torch.max(outputs.data, 1)\n",
    "            total += labels.size(0)\n",
    "            correct += (predicted == labels).sum().item()\n",
    "\n",
    "    validation_accuracy = 100 * correct / total\n",
    "    print(f'Validation Loss: {val_loss/len(val_loader):.2f}, Accuracy: {validation_accuracy:.2f}')\n",
    "    \n",
    "    # save params if accuracy is better\n",
    "    if validation_accuracy > best_mobilenet_v2_accuracy:\n",
    "        best_mobilenet_v2_accuracy = validation_accuracy\n",
    "        best_mobilenet_v2_params = mobilenet_v2.state_dict()"
   ]
  },
  {
   "cell_type": "code",
   "execution_count": 39,
   "id": "2c6bd6e4",
   "metadata": {
    "execution": {
     "iopub.execute_input": "2025-03-20T22:46:52.055815Z",
     "iopub.status.busy": "2025-03-20T22:46:52.055531Z",
     "iopub.status.idle": "2025-03-20T22:46:52.101882Z",
     "shell.execute_reply": "2025-03-20T22:46:52.101153Z"
    },
    "papermill": {
     "duration": 0.072078,
     "end_time": "2025-03-20T22:46:52.103113",
     "exception": false,
     "start_time": "2025-03-20T22:46:52.031035",
     "status": "completed"
    },
    "tags": []
   },
   "outputs": [
    {
     "name": "stdout",
     "output_type": "stream",
     "text": [
      "\u001b[92m\n",
      "Best accuracy achieved: 94.93\u001b[0m\n"
     ]
    }
   ],
   "source": [
    "# load params with the best accuracy\n",
    "mobilenet_v2.load_state_dict(best_mobilenet_v2_params)\n",
    "colored_print(f'\\nBest accuracy achieved: {best_mobilenet_v2_accuracy:.2f}', 'g')\n",
    "\n",
    "torch.save(mobilenet_v2.state_dict(), os.path.join(best_models_path, 'mobilenet_v2.pth'))"
   ]
  },
  {
   "cell_type": "code",
   "execution_count": 40,
   "id": "160550a5",
   "metadata": {
    "execution": {
     "iopub.execute_input": "2025-03-20T22:46:52.149233Z",
     "iopub.status.busy": "2025-03-20T22:46:52.149016Z",
     "iopub.status.idle": "2025-03-20T22:46:52.152076Z",
     "shell.execute_reply": "2025-03-20T22:46:52.151424Z"
    },
    "papermill": {
     "duration": 0.027351,
     "end_time": "2025-03-20T22:46:52.153240",
     "exception": false,
     "start_time": "2025-03-20T22:46:52.125889",
     "status": "completed"
    },
    "tags": []
   },
   "outputs": [],
   "source": [
    "# path to best params\n",
    "best_mobilenet_v2_params_path = os.path.join(best_models_path, 'mobilenet_v2.pth')"
   ]
  },
  {
   "cell_type": "code",
   "execution_count": 41,
   "id": "75d0b5f9",
   "metadata": {
    "execution": {
     "iopub.execute_input": "2025-03-20T22:46:52.200394Z",
     "iopub.status.busy": "2025-03-20T22:46:52.200176Z",
     "iopub.status.idle": "2025-03-20T22:46:52.284518Z",
     "shell.execute_reply": "2025-03-20T22:46:52.283892Z"
    },
    "papermill": {
     "duration": 0.108615,
     "end_time": "2025-03-20T22:46:52.285584",
     "exception": false,
     "start_time": "2025-03-20T22:46:52.176969",
     "status": "completed"
    },
    "tags": []
   },
   "outputs": [
    {
     "data": {
      "text/plain": [
       "<All keys matched successfully>"
      ]
     },
     "execution_count": 41,
     "metadata": {},
     "output_type": "execute_result"
    }
   ],
   "source": [
    "# load best params into model\n",
    "mobilenet_v2.load_state_dict(torch.load(best_mobilenet_v2_params_path, weights_only=True))"
   ]
  },
  {
   "cell_type": "code",
   "execution_count": 42,
   "id": "a3164e15",
   "metadata": {
    "execution": {
     "iopub.execute_input": "2025-03-20T22:46:52.331730Z",
     "iopub.status.busy": "2025-03-20T22:46:52.331485Z",
     "iopub.status.idle": "2025-03-20T22:46:52.337658Z",
     "shell.execute_reply": "2025-03-20T22:46:52.337081Z"
    },
    "papermill": {
     "duration": 0.030482,
     "end_time": "2025-03-20T22:46:52.338812",
     "exception": false,
     "start_time": "2025-03-20T22:46:52.308330",
     "status": "completed"
    },
    "tags": []
   },
   "outputs": [],
   "source": [
    "# use GPU if available\n",
    "device = torch.device(\"cuda\" if torch.cuda.is_available() else \"cpu\")\n",
    "mobilenet_v2 = mobilenet_v2.to(device)"
   ]
  },
  {
   "cell_type": "code",
   "execution_count": 43,
   "id": "dbf06512",
   "metadata": {
    "execution": {
     "iopub.execute_input": "2025-03-20T22:46:52.384763Z",
     "iopub.status.busy": "2025-03-20T22:46:52.384527Z",
     "iopub.status.idle": "2025-03-20T22:47:01.983040Z",
     "shell.execute_reply": "2025-03-20T22:47:01.982160Z"
    },
    "papermill": {
     "duration": 9.623042,
     "end_time": "2025-03-20T22:47:01.984469",
     "exception": false,
     "start_time": "2025-03-20T22:46:52.361427",
     "status": "completed"
    },
    "tags": []
   },
   "outputs": [
    {
     "name": "stdout",
     "output_type": "stream",
     "text": [
      "\u001b[92mAccuracy: 0.91, f1-score: 0.90\u001b[0m\n"
     ]
    },
    {
     "data": {
      "image/png": "[encoded data removed]",
      "text/plain": [
       "<Figure size 1000x800 with 2 Axes>"
      ]
     },
     "metadata": {},
     "output_type": "display_data"
    }
   ],
   "source": [
    "# model is ready for use\n",
    "mobilenet_v2_accuracy, mobilenet_v2_f1_score, mobilenet_v2_confusion_matrix = score_model(mobilenet_v2)\n",
    "colored_print(f'Accuracy: {mobilenet_v2_accuracy:.2f}, f1-score: {mobilenet_v2_f1_score:.2f}', 'g')\n",
    "plot_confusion_matrix(mobilenet_v2_confusion_matrix, 'MobileNetV2', mobilenet_v2_accuracy)"
   ]
  },
  {
   "cell_type": "code",
   "execution_count": 44,
   "id": "045f5282",
   "metadata": {
    "execution": {
     "iopub.execute_input": "2025-03-20T22:47:02.038675Z",
     "iopub.status.busy": "2025-03-20T22:47:02.038373Z",
     "iopub.status.idle": "2025-03-20T22:47:02.506752Z",
     "shell.execute_reply": "2025-03-20T22:47:02.505708Z"
    },
    "papermill": {
     "duration": 0.498707,
     "end_time": "2025-03-20T22:47:02.508172",
     "exception": false,
     "start_time": "2025-03-20T22:47:02.009465",
     "status": "completed"
    },
    "tags": []
   },
   "outputs": [
    {
     "name": "stderr",
     "output_type": "stream",
     "text": [
      "/usr/local/lib/python3.10/dist-packages/torchvision/models/_utils.py:208: UserWarning: The parameter 'pretrained' is deprecated since 0.13 and may be removed in the future, please use 'weights' instead.\n",
      "  warnings.warn(\n",
      "/usr/local/lib/python3.10/dist-packages/torchvision/models/_utils.py:223: UserWarning: Arguments other than a weight enum or `None` for 'weights' are deprecated since 0.13 and may be removed in the future. The current behavior is equivalent to passing `weights=EfficientNet_B0_Weights.IMAGENET1K_V1`. You can also use `weights=EfficientNet_B0_Weights.DEFAULT` to get the most up-to-date weights.\n",
      "  warnings.warn(msg)\n",
      "Downloading: \"https://download.pytorch.org/models/efficientnet_b0_rwightman-7f5810bc.pth\" to /root/.cache/torch/hub/checkpoints/efficientnet_b0_rwightman-7f5810bc.pth\n",
      "100%|██████████| 20.5M/20.5M [00:00<00:00, 163MB/s]\n"
     ]
    }
   ],
   "source": [
    "# Initialising EfficientNetB0 model\n",
    "efficientnet_b0 = models.efficientnet_b0(pretrained=True)\n",
    "efficientnet_b0.classifier[1] = nn.Linear(efficientnet_b0.classifier[1].in_features, number_of_classes)"
   ]
  },
  {
   "cell_type": "code",
   "execution_count": 45,
   "id": "8358627f",
   "metadata": {
    "execution": {
     "iopub.execute_input": "2025-03-20T22:47:02.561383Z",
     "iopub.status.busy": "2025-03-20T22:47:02.560881Z",
     "iopub.status.idle": "2025-03-20T22:47:02.565516Z",
     "shell.execute_reply": "2025-03-20T22:47:02.564740Z"
    },
    "papermill": {
     "duration": 0.030933,
     "end_time": "2025-03-20T22:47:02.566721",
     "exception": false,
     "start_time": "2025-03-20T22:47:02.535788",
     "status": "completed"
    },
    "tags": []
   },
   "outputs": [
    {
     "name": "stdout",
     "output_type": "stream",
     "text": [
      "\u001b[92mEfficientNetB0\u001b[0m\n",
      "\u001b[90mUsing device: cuda\u001b[0m\n"
     ]
    }
   ],
   "source": [
    "colored_print(f'EfficientNetB0', 'g')\n",
    "# using GPU if available\n",
    "device = torch.device(\"cuda\" if torch.cuda.is_available() else \"cpu\")\n",
    "colored_print(f'Using device: {device}')"
   ]
  },
  {
   "cell_type": "code",
   "execution_count": 46,
   "id": "91c908e0",
   "metadata": {
    "execution": {
     "iopub.execute_input": "2025-03-20T22:47:02.616689Z",
     "iopub.status.busy": "2025-03-20T22:47:02.616434Z",
     "iopub.status.idle": "2025-03-20T22:47:02.632957Z",
     "shell.execute_reply": "2025-03-20T22:47:02.632383Z"
    },
    "papermill": {
     "duration": 0.042772,
     "end_time": "2025-03-20T22:47:02.634145",
     "exception": false,
     "start_time": "2025-03-20T22:47:02.591373",
     "status": "completed"
    },
    "tags": []
   },
   "outputs": [],
   "source": [
    "efficientnet_b0 = efficientnet_b0.to(device)"
   ]
  },
  {
   "cell_type": "code",
   "execution_count": 47,
   "id": "6828de53",
   "metadata": {
    "execution": {
     "iopub.execute_input": "2025-03-20T22:47:02.682765Z",
     "iopub.status.busy": "2025-03-20T22:47:02.682534Z",
     "iopub.status.idle": "2025-03-20T22:47:02.686676Z",
     "shell.execute_reply": "2025-03-20T22:47:02.685869Z"
    },
    "papermill": {
     "duration": 0.0299,
     "end_time": "2025-03-20T22:47:02.687956",
     "exception": false,
     "start_time": "2025-03-20T22:47:02.658056",
     "status": "completed"
    },
    "tags": []
   },
   "outputs": [],
   "source": [
    "# training last layers\n",
    "for param in efficientnet_b0.parameters():\n",
    "    param.requires_grad = False\n",
    "for param in efficientnet_b0.classifier.parameters():\n",
    "    param.requires_grad = True"
   ]
  },
  {
   "cell_type": "code",
   "execution_count": 48,
   "id": "05285bb8",
   "metadata": {
    "execution": {
     "iopub.execute_input": "2025-03-20T22:47:02.736244Z",
     "iopub.status.busy": "2025-03-20T22:47:02.736048Z",
     "iopub.status.idle": "2025-03-20T22:47:02.740783Z",
     "shell.execute_reply": "2025-03-20T22:47:02.739988Z"
    },
    "papermill": {
     "duration": 0.030258,
     "end_time": "2025-03-20T22:47:02.742030",
     "exception": false,
     "start_time": "2025-03-20T22:47:02.711772",
     "status": "completed"
    },
    "tags": []
   },
   "outputs": [],
   "source": [
    "# defining loss function and optimizer\n",
    "criterion = nn.CrossEntropyLoss()\n",
    "optimizer = optim.Adam(efficientnet_b0.parameters(), lr=0.001)"
   ]
  },
  {
   "cell_type": "code",
   "execution_count": 49,
   "id": "49026c24",
   "metadata": {
    "execution": {
     "iopub.execute_input": "2025-03-20T22:47:02.791210Z",
     "iopub.status.busy": "2025-03-20T22:47:02.790988Z",
     "iopub.status.idle": "2025-03-20T23:36:08.499049Z",
     "shell.execute_reply": "2025-03-20T23:36:08.498055Z"
    },
    "papermill": {
     "duration": 2945.734554,
     "end_time": "2025-03-20T23:36:08.500519",
     "exception": false,
     "start_time": "2025-03-20T22:47:02.765965",
     "status": "completed"
    },
    "tags": []
   },
   "outputs": [
    {
     "name": "stdout",
     "output_type": "stream",
     "text": [
      "\n",
      "Epoch [1/50], Loss: 1.15\n",
      "Validation Loss: 0.71, Accuracy: 82.57\n",
      "\n",
      "Epoch [2/50], Loss: 0.72\n",
      "Validation Loss: 0.56, Accuracy: 84.65\n",
      "\n",
      "Epoch [3/50], Loss: 0.63\n",
      "Validation Loss: 0.51, Accuracy: 85.21\n",
      "\n",
      "Epoch [4/50], Loss: 0.58\n",
      "Validation Loss: 0.48, Accuracy: 85.42\n",
      "\n",
      "Epoch [5/50], Loss: 0.57\n",
      "Validation Loss: 0.46, Accuracy: 86.18\n",
      "\n",
      "Epoch [6/50], Loss: 0.55\n",
      "Validation Loss: 0.46, Accuracy: 85.90\n",
      "\n",
      "Epoch [7/50], Loss: 0.53\n",
      "Validation Loss: 0.45, Accuracy: 85.62\n",
      "\n",
      "Epoch [8/50], Loss: 0.52\n",
      "Validation Loss: 0.44, Accuracy: 86.25\n",
      "\n",
      "Epoch [9/50], Loss: 0.51\n",
      "Validation Loss: 0.44, Accuracy: 86.32\n",
      "\n",
      "Epoch [10/50], Loss: 0.50\n",
      "Validation Loss: 0.42, Accuracy: 87.50\n",
      "\u001b[93mUnfreezing all layers at epoch 10\u001b[0m\n",
      "\n",
      "Epoch [11/50], Loss: 0.50\n",
      "Validation Loss: 0.43, Accuracy: 86.32\n",
      "\n",
      "Epoch [12/50], Loss: 0.49\n",
      "Validation Loss: 0.43, Accuracy: 86.53\n",
      "\n",
      "Epoch [13/50], Loss: 0.50\n",
      "Validation Loss: 0.43, Accuracy: 86.53\n",
      "\n",
      "Epoch [14/50], Loss: 0.50\n",
      "Validation Loss: 0.43, Accuracy: 86.81\n",
      "\n",
      "Epoch [15/50], Loss: 0.48\n",
      "Validation Loss: 0.43, Accuracy: 86.67\n",
      "\n",
      "Epoch [16/50], Loss: 0.50\n",
      "Validation Loss: 0.43, Accuracy: 87.15\n",
      "\n",
      "Epoch [17/50], Loss: 0.51\n",
      "Validation Loss: 0.43, Accuracy: 86.25\n",
      "\n",
      "Epoch [18/50], Loss: 0.50\n",
      "Validation Loss: 0.43, Accuracy: 86.39\n",
      "\n",
      "Epoch [19/50], Loss: 0.49\n",
      "Validation Loss: 0.43, Accuracy: 86.53\n",
      "\n",
      "Epoch [20/50], Loss: 0.49\n",
      "Validation Loss: 0.43, Accuracy: 86.81\n",
      "\n",
      "Epoch [21/50], Loss: 0.49\n",
      "Validation Loss: 0.43, Accuracy: 87.01\n",
      "\n",
      "Epoch [22/50], Loss: 0.48\n",
      "Validation Loss: 0.43, Accuracy: 85.90\n",
      "\n",
      "Epoch [23/50], Loss: 0.50\n",
      "Validation Loss: 0.43, Accuracy: 86.60\n",
      "\n",
      "Epoch [24/50], Loss: 0.50\n",
      "Validation Loss: 0.43, Accuracy: 86.81\n",
      "\n",
      "Epoch [25/50], Loss: 0.49\n",
      "Validation Loss: 0.43, Accuracy: 87.08\n",
      "\n",
      "Epoch [26/50], Loss: 0.49\n",
      "Validation Loss: 0.43, Accuracy: 86.88\n",
      "\n",
      "Epoch [27/50], Loss: 0.48\n",
      "Validation Loss: 0.42, Accuracy: 86.81\n",
      "\n",
      "Epoch [28/50], Loss: 0.49\n",
      "Validation Loss: 0.43, Accuracy: 86.74\n",
      "\n",
      "Epoch [29/50], Loss: 0.50\n",
      "Validation Loss: 0.44, Accuracy: 86.18\n",
      "\n",
      "Epoch [30/50], Loss: 0.49\n",
      "Validation Loss: 0.42, Accuracy: 87.15\n",
      "\n",
      "Epoch [31/50], Loss: 0.50\n",
      "Validation Loss: 0.43, Accuracy: 86.74\n",
      "\n",
      "Epoch [32/50], Loss: 0.49\n",
      "Validation Loss: 0.42, Accuracy: 87.01\n",
      "\n",
      "Epoch [33/50], Loss: 0.49\n",
      "Validation Loss: 0.43, Accuracy: 86.46\n",
      "\n",
      "Epoch [34/50], Loss: 0.49\n",
      "Validation Loss: 0.43, Accuracy: 86.53\n",
      "\n",
      "Epoch [35/50], Loss: 0.51\n",
      "Validation Loss: 0.43, Accuracy: 86.74\n",
      "\n",
      "Epoch [36/50], Loss: 0.49\n",
      "Validation Loss: 0.42, Accuracy: 86.67\n",
      "\n",
      "Epoch [37/50], Loss: 0.50\n",
      "Validation Loss: 0.43, Accuracy: 86.81\n",
      "\n",
      "Epoch [38/50], Loss: 0.49\n",
      "Validation Loss: 0.42, Accuracy: 86.67\n",
      "\n",
      "Epoch [39/50], Loss: 0.49\n",
      "Validation Loss: 0.43, Accuracy: 86.74\n",
      "\n",
      "Epoch [40/50], Loss: 0.49\n",
      "Validation Loss: 0.43, Accuracy: 86.88\n",
      "\n",
      "Epoch [41/50], Loss: 0.49\n",
      "Validation Loss: 0.43, Accuracy: 86.94\n",
      "\n",
      "Epoch [42/50], Loss: 0.49\n",
      "Validation Loss: 0.43, Accuracy: 86.32\n",
      "\n",
      "Epoch [43/50], Loss: 0.50\n",
      "Validation Loss: 0.42, Accuracy: 86.60\n",
      "\n",
      "Epoch [44/50], Loss: 0.49\n",
      "Validation Loss: 0.44, Accuracy: 86.88\n",
      "\n",
      "Epoch [45/50], Loss: 0.50\n",
      "Validation Loss: 0.43, Accuracy: 86.74\n",
      "\n",
      "Epoch [46/50], Loss: 0.50\n",
      "Validation Loss: 0.43, Accuracy: 86.88\n",
      "\n",
      "Epoch [47/50], Loss: 0.50\n",
      "Validation Loss: 0.43, Accuracy: 86.60\n",
      "\n",
      "Epoch [48/50], Loss: 0.50\n",
      "Validation Loss: 0.43, Accuracy: 86.25\n",
      "\n",
      "Epoch [49/50], Loss: 0.49\n",
      "Validation Loss: 0.43, Accuracy: 86.46\n",
      "\n",
      "Epoch [50/50], Loss: 0.49\n",
      "Validation Loss: 0.43, Accuracy: 86.53\n"
     ]
    }
   ],
   "source": [
    "# training a model\n",
    "epochs = 50\n",
    "unfreeze_at_epoch = 10\n",
    "best_efficientnet_b0_params = dict({})\n",
    "best_efficientnet_b0_accuracy = 0\n",
    "\n",
    "for epoch in range(epochs):\n",
    "    if epoch == unfreeze_at_epoch:\n",
    "        colored_print(f'Unfreezing all layers at epoch {unfreeze_at_epoch}', 'y')\n",
    "        for param in mobilenet_v2.parameters():\n",
    "            param.requires_grad = True\n",
    "        optimizer = optim.Adam(mobilenet_v2.parameters(), lr=0.0001)\n",
    "    \n",
    "    efficientnet_b0.train()\n",
    "    running_loss = 0.0\n",
    "    \n",
    "    for images, labels in train_loader:\n",
    "        images, labels = images.to(device), labels.to(device)\n",
    "        \n",
    "        optimizer.zero_grad()\n",
    "        outputs = efficientnet_b0(images)\n",
    "        loss = criterion(outputs, labels)\n",
    "        loss.backward()\n",
    "        optimizer.step()\n",
    "        running_loss += loss.item()\n",
    "\n",
    "    print(f'\\nEpoch [{epoch+1}/{epochs}], Loss: {running_loss/len(train_loader):.2f}')\n",
    "\n",
    "    # validation\n",
    "    efficientnet_b0.eval()\n",
    "    val_loss = 0.0\n",
    "    correct = 0\n",
    "    total = 0\n",
    "    with torch.no_grad():\n",
    "        for images, labels in val_loader:\n",
    "            images, labels = images.to(device), labels.to(device)\n",
    "            \n",
    "            outputs = efficientnet_b0(images)\n",
    "            loss = criterion(outputs, labels)\n",
    "            val_loss += loss.item()\n",
    "            _, predicted = torch.max(outputs.data, 1)\n",
    "            total += labels.size(0)\n",
    "            correct += (predicted == labels).sum().item()\n",
    "\n",
    "    validation_accuracy = 100 * correct / total\n",
    "    print(f'Validation Loss: {val_loss/len(val_loader):.2f}, Accuracy: {validation_accuracy:.2f}')\n",
    "    \n",
    "    # save params if accuracy is better\n",
    "    if validation_accuracy > best_efficientnet_b0_accuracy:\n",
    "        best_efficientnet_b0_accuracy = validation_accuracy\n",
    "        best_efficientnet_b0_params = efficientnet_b0.state_dict()"
   ]
  },
  {
   "cell_type": "code",
   "execution_count": 50,
   "id": "e373ebf7",
   "metadata": {
    "execution": {
     "iopub.execute_input": "2025-03-20T23:36:08.559069Z",
     "iopub.status.busy": "2025-03-20T23:36:08.558816Z",
     "iopub.status.idle": "2025-03-20T23:36:08.576281Z",
     "shell.execute_reply": "2025-03-20T23:36:08.575447Z"
    },
    "papermill": {
     "duration": 0.047559,
     "end_time": "2025-03-20T23:36:08.577561",
     "exception": false,
     "start_time": "2025-03-20T23:36:08.530002",
     "status": "completed"
    },
    "tags": []
   },
   "outputs": [
    {
     "name": "stdout",
     "output_type": "stream",
     "text": [
      "\u001b[92m\n",
      "Best accuracy achieved: 87.50\u001b[0m\n"
     ]
    }
   ],
   "source": [
    "# load params with the best accuracy\n",
    "efficientnet_b0.load_state_dict(best_efficientnet_b0_params)\n",
    "colored_print(f'\\nBest accuracy achieved: {best_efficientnet_b0_accuracy:.2f}', 'g')"
   ]
  },
  {
   "cell_type": "code",
   "execution_count": 51,
   "id": "3013b9b7",
   "metadata": {
    "execution": {
     "iopub.execute_input": "2025-03-20T23:36:08.635141Z",
     "iopub.status.busy": "2025-03-20T23:36:08.634931Z",
     "iopub.status.idle": "2025-03-20T23:36:08.686532Z",
     "shell.execute_reply": "2025-03-20T23:36:08.685974Z"
    },
    "papermill": {
     "duration": 0.08165,
     "end_time": "2025-03-20T23:36:08.687724",
     "exception": false,
     "start_time": "2025-03-20T23:36:08.606074",
     "status": "completed"
    },
    "tags": []
   },
   "outputs": [],
   "source": [
    "torch.save(efficientnet_b0.state_dict(), os.path.join(best_models_path, 'efficientnet_b0.pth'))"
   ]
  },
  {
   "cell_type": "code",
   "execution_count": 52,
   "id": "9a70e814",
   "metadata": {
    "execution": {
     "iopub.execute_input": "2025-03-20T23:36:08.745455Z",
     "iopub.status.busy": "2025-03-20T23:36:08.745248Z",
     "iopub.status.idle": "2025-03-20T23:36:08.748260Z",
     "shell.execute_reply": "2025-03-20T23:36:08.747657Z"
    },
    "papermill": {
     "duration": 0.033143,
     "end_time": "2025-03-20T23:36:08.749408",
     "exception": false,
     "start_time": "2025-03-20T23:36:08.716265",
     "status": "completed"
    },
    "tags": []
   },
   "outputs": [],
   "source": [
    "# path to best params\n",
    "best_efficientnet_b0_params_path = os.path.join(best_models_path, 'efficientnet_b0.pth')"
   ]
  },
  {
   "cell_type": "code",
   "execution_count": 53,
   "id": "6ad3ecd4",
   "metadata": {
    "execution": {
     "iopub.execute_input": "2025-03-20T23:36:08.806803Z",
     "iopub.status.busy": "2025-03-20T23:36:08.806581Z",
     "iopub.status.idle": "2025-03-20T23:36:08.906879Z",
     "shell.execute_reply": "2025-03-20T23:36:08.906140Z"
    },
    "papermill": {
     "duration": 0.130225,
     "end_time": "2025-03-20T23:36:08.908142",
     "exception": false,
     "start_time": "2025-03-20T23:36:08.777917",
     "status": "completed"
    },
    "tags": []
   },
   "outputs": [
    {
     "data": {
      "text/plain": [
       "<All keys matched successfully>"
      ]
     },
     "execution_count": 53,
     "metadata": {},
     "output_type": "execute_result"
    }
   ],
   "source": [
    "# load best params into model\n",
    "efficientnet_b0.load_state_dict(torch.load(best_efficientnet_b0_params_path, weights_only=True))"
   ]
  },
  {
   "cell_type": "code",
   "execution_count": 54,
   "id": "e48a12c7",
   "metadata": {
    "execution": {
     "iopub.execute_input": "2025-03-20T23:36:08.965211Z",
     "iopub.status.busy": "2025-03-20T23:36:08.965006Z",
     "iopub.status.idle": "2025-03-20T23:36:08.970338Z",
     "shell.execute_reply": "2025-03-20T23:36:08.969793Z"
    },
    "papermill": {
     "duration": 0.035093,
     "end_time": "2025-03-20T23:36:08.971521",
     "exception": false,
     "start_time": "2025-03-20T23:36:08.936428",
     "status": "completed"
    },
    "tags": []
   },
   "outputs": [],
   "source": [
    "# use GPU if available\n",
    "device = torch.device(\"cuda\" if torch.cuda.is_available() else \"cpu\")\n",
    "efficientnet_b0 = efficientnet_b0.to(device)"
   ]
  },
  {
   "cell_type": "code",
   "execution_count": 55,
   "id": "467d7ab3",
   "metadata": {
    "execution": {
     "iopub.execute_input": "2025-03-20T23:36:09.028467Z",
     "iopub.status.busy": "2025-03-20T23:36:09.028269Z",
     "iopub.status.idle": "2025-03-20T23:36:18.451515Z",
     "shell.execute_reply": "2025-03-20T23:36:18.450669Z"
    },
    "papermill": {
     "duration": 9.453563,
     "end_time": "2025-03-20T23:36:18.453064",
     "exception": false,
     "start_time": "2025-03-20T23:36:08.999501",
     "status": "completed"
    },
    "tags": []
   },
   "outputs": [
    {
     "name": "stdout",
     "output_type": "stream",
     "text": [
      "\u001b[92mAccuracy: 0.83, f1-score: 0.83\u001b[0m\n"
     ]
    },
    {
     "data": {
      "image/png": "[encoded data removed]",
      "text/plain": [
       "<Figure size 1000x800 with 2 Axes>"
      ]
     },
     "metadata": {},
     "output_type": "display_data"
    }
   ],
   "source": [
    "# model is ready for use\n",
    "efficientnet_b0_accuracy, efficientnet_b0_f1_score, efficientnet_b0_confusion_matrix = score_model(efficientnet_b0)\n",
    "colored_print(f'Accuracy: {efficientnet_b0_accuracy:.2f}, f1-score: {efficientnet_b0_f1_score:.2f}', 'g')\n",
    "plot_confusion_matrix(efficientnet_b0_confusion_matrix, 'EfficientNetB0', efficientnet_b0_accuracy)"
   ]
  }
 ],
 "metadata": {
  "kaggle": {
   "accelerator": "gpu",
   "dataSources": [
    {
     "datasetId": 6910156,
     "sourceId": 11104256,
     "sourceType": "datasetVersion"
    }
   ],
   "dockerImageVersionId": 30918,
   "isGpuEnabled": true,
   "isInternetEnabled": true,
   "language": "python",
   "sourceType": "notebook"
  },
  "kernelspec": {
   "display_name": "Python 3",
   "language": "python",
   "name": "python3"
  },
  "language_info": {
   "codemirror_mode": {
    "name": "ipython",
    "version": 3
   },
   "file_extension": ".py",
   "mimetype": "text/x-python",
   "name": "python",
   "nbconvert_exporter": "python",
   "pygments_lexer": "ipython3",
   "version": "3.10.12"
  },
  "papermill": {
   "default_parameters": {},
   "duration": 11562.615758,
   "end_time": "2025-03-20T23:36:20.117739",
   "environment_variables": {},
   "exception": null,
   "input_path": "__notebook__.ipynb",
   "output_path": "__notebook__.ipynb",
   "parameters": {},
   "start_time": "2025-03-20T20:23:37.501981",
   "version": "2.6.0"
  }
 },
 "nbformat": 4,
 "nbformat_minor": 5
}
