{
 "cells": [
  {
   "cell_type": "markdown",
   "id": "8911b09f",
   "metadata": {
    "papermill": {
     "duration": 0.003211,
     "end_time": "2025-03-18T14:59:53.350274",
     "exception": false,
     "start_time": "2025-03-18T14:59:53.347063",
     "status": "completed"
    },
    "tags": []
   },
   "source": [
    "# Data preprocessing"
   ]
  },
  {
   "cell_type": "markdown",
   "id": "0a216bea",
   "metadata": {
    "papermill": {
     "duration": 0.002257,
     "end_time": "2025-03-18T14:59:53.355462",
     "exception": false,
     "start_time": "2025-03-18T14:59:53.353205",
     "status": "completed"
    },
    "tags": []
   },
   "source": [
    "Using dataset National Flowers, which has 9 classes of flowers:\n",
    "\n",
    "- daisy\n",
    "- dandelion\n",
    "- lavender\n",
    "- lilly\n",
    "- lotus\n",
    "- orchid\n",
    "- rose\n",
    "- sunflower\n",
    "- tulip\n",
    "---------"
   ]
  },
  {
   "cell_type": "markdown",
   "id": "7ec9ced5",
   "metadata": {
    "papermill": {
     "duration": 0.002445,
     "end_time": "2025-03-18T14:59:53.360470",
     "exception": false,
     "start_time": "2025-03-18T14:59:53.358025",
     "status": "completed"
    },
    "tags": []
   },
   "source": [
    "## Loading data"
   ]
  },
  {
   "cell_type": "markdown",
   "id": "73bce76e",
   "metadata": {
    "papermill": {
     "duration": 0.002296,
     "end_time": "2025-03-18T14:59:53.365266",
     "exception": false,
     "start_time": "2025-03-18T14:59:53.362970",
     "status": "completed"
    },
    "tags": []
   },
   "source": [
    "We need to load data and split it into 3 pieces:\n",
    "- 20% test\n",
    "- 16% validation\n",
    "- 64% train"
   ]
  },
  {
   "cell_type": "code",
   "execution_count": 1,
   "id": "627e309f",
   "metadata": {
    "execution": {
     "iopub.execute_input": "2025-03-18T14:59:53.371433Z",
     "iopub.status.busy": "2025-03-18T14:59:53.371142Z",
     "iopub.status.idle": "2025-03-18T15:00:03.283999Z",
     "shell.execute_reply": "2025-03-18T15:00:03.283316Z"
    },
    "papermill": {
     "duration": 9.917802,
     "end_time": "2025-03-18T15:00:03.285488",
     "exception": false,
     "start_time": "2025-03-18T14:59:53.367686",
     "status": "completed"
    },
    "tags": []
   },
   "outputs": [],
   "source": [
    "import os\n",
    "from torchvision import datasets, transforms\n",
    "from torch.utils.data import DataLoader, random_split, Subset"
   ]
  },
  {
   "cell_type": "code",
   "execution_count": 2,
   "id": "ccfbd4d7",
   "metadata": {
    "execution": {
     "iopub.execute_input": "2025-03-18T15:00:03.291980Z",
     "iopub.status.busy": "2025-03-18T15:00:03.291647Z",
     "iopub.status.idle": "2025-03-18T15:00:03.295700Z",
     "shell.execute_reply": "2025-03-18T15:00:03.295082Z"
    },
    "papermill": {
     "duration": 0.008454,
     "end_time": "2025-03-18T15:00:03.296892",
     "exception": false,
     "start_time": "2025-03-18T15:00:03.288438",
     "status": "completed"
    },
    "tags": []
   },
   "outputs": [],
   "source": [
    "# Train data normalizing and augmentation settings:\n",
    "train_transform = transforms.Compose([\n",
    "    transforms.Resize((224, 224)),\n",
    "    transforms.RandomHorizontalFlip(),\n",
    "    transforms.RandomVerticalFlip(),\n",
    "    transforms.RandomRotation(20),\n",
    "    transforms.ToTensor(),\n",
    "    transforms.Normalize(mean=[0.485, 0.456, 0.406], std=[0.229, 0.224, 0.225])\n",
    "])"
   ]
  },
  {
   "cell_type": "code",
   "execution_count": 3,
   "id": "ac6b4fe8",
   "metadata": {
    "execution": {
     "iopub.execute_input": "2025-03-18T15:00:03.303091Z",
     "iopub.status.busy": "2025-03-18T15:00:03.302843Z",
     "iopub.status.idle": "2025-03-18T15:00:03.306265Z",
     "shell.execute_reply": "2025-03-18T15:00:03.305657Z"
    },
    "papermill": {
     "duration": 0.007732,
     "end_time": "2025-03-18T15:00:03.307504",
     "exception": false,
     "start_time": "2025-03-18T15:00:03.299772",
     "status": "completed"
    },
    "tags": []
   },
   "outputs": [],
   "source": [
    "# Val and test data normalizing and augmentation settings:\n",
    "val_test_transform = transforms.Compose([\n",
    "    transforms.Resize((224, 224)),\n",
    "    transforms.ToTensor(),\n",
    "    transforms.Normalize(mean=[0.485, 0.456, 0.406], std=[0.229, 0.224, 0.225])\n",
    "])"
   ]
  },
  {
   "cell_type": "code",
   "execution_count": 4,
   "id": "f3cf241c",
   "metadata": {
    "execution": {
     "iopub.execute_input": "2025-03-18T15:00:03.313709Z",
     "iopub.status.busy": "2025-03-18T15:00:03.313464Z",
     "iopub.status.idle": "2025-03-18T15:00:03.316424Z",
     "shell.execute_reply": "2025-03-18T15:00:03.315808Z"
    },
    "papermill": {
     "duration": 0.007333,
     "end_time": "2025-03-18T15:00:03.317592",
     "exception": false,
     "start_time": "2025-03-18T15:00:03.310259",
     "status": "completed"
    },
    "tags": []
   },
   "outputs": [],
   "source": [
    "dataset_path = \"/kaggle/input/national-flowers/flowerdataset/\""
   ]
  },
  {
   "cell_type": "code",
   "execution_count": 5,
   "id": "1aa81ad8",
   "metadata": {
    "execution": {
     "iopub.execute_input": "2025-03-18T15:00:03.323425Z",
     "iopub.status.busy": "2025-03-18T15:00:03.323209Z",
     "iopub.status.idle": "2025-03-18T15:00:09.316085Z",
     "shell.execute_reply": "2025-03-18T15:00:09.315347Z"
    },
    "papermill": {
     "duration": 5.997449,
     "end_time": "2025-03-18T15:00:09.317660",
     "exception": false,
     "start_time": "2025-03-18T15:00:03.320211",
     "status": "completed"
    },
    "tags": []
   },
   "outputs": [],
   "source": [
    "# 1. Load and transform as training all train data\n",
    "full_train_dataset = datasets.ImageFolder(\n",
    "    root=os.path.join(dataset_path, 'train'), transform=train_transform)"
   ]
  },
  {
   "cell_type": "code",
   "execution_count": 6,
   "id": "8298be79",
   "metadata": {
    "execution": {
     "iopub.execute_input": "2025-03-18T15:00:09.324097Z",
     "iopub.status.busy": "2025-03-18T15:00:09.323839Z",
     "iopub.status.idle": "2025-03-18T15:00:09.370850Z",
     "shell.execute_reply": "2025-03-18T15:00:09.370226Z"
    },
    "papermill": {
     "duration": 0.051763,
     "end_time": "2025-03-18T15:00:09.372382",
     "exception": false,
     "start_time": "2025-03-18T15:00:09.320619",
     "status": "completed"
    },
    "tags": []
   },
   "outputs": [],
   "source": [
    "# 2. Split train data into train and validation data\n",
    "train_size = int(0.8 * len(full_train_dataset))\n",
    "val_size = len(full_train_dataset) - train_size\n",
    "train_dataset, val_dataset = random_split(full_train_dataset, [train_size, val_size])"
   ]
  },
  {
   "cell_type": "code",
   "execution_count": 7,
   "id": "4de92610",
   "metadata": {
    "collapsed": true,
    "execution": {
     "iopub.execute_input": "2025-03-18T15:00:09.378360Z",
     "iopub.status.busy": "2025-03-18T15:00:09.378138Z",
     "iopub.status.idle": "2025-03-18T15:00:11.390532Z",
     "shell.execute_reply": "2025-03-18T15:00:11.389763Z"
    },
    "jupyter": {
     "outputs_hidden": true
    },
    "papermill": {
     "duration": 2.016976,
     "end_time": "2025-03-18T15:00:11.392049",
     "exception": false,
     "start_time": "2025-03-18T15:00:09.375073",
     "status": "completed"
    },
    "tags": []
   },
   "outputs": [],
   "source": [
    "# 3. Load and transform as validation only already splitted val data\n",
    "val_dataset = Subset(datasets.ImageFolder(\n",
    "    root=os.path.join(dataset_path, 'train'), transform=val_test_transform), val_dataset.indices)"
   ]
  },
  {
   "cell_type": "code",
   "execution_count": 8,
   "id": "70cb46d4",
   "metadata": {
    "execution": {
     "iopub.execute_input": "2025-03-18T15:00:11.398297Z",
     "iopub.status.busy": "2025-03-18T15:00:11.398068Z",
     "iopub.status.idle": "2025-03-18T15:00:12.576665Z",
     "shell.execute_reply": "2025-03-18T15:00:12.575980Z"
    },
    "papermill": {
     "duration": 1.183172,
     "end_time": "2025-03-18T15:00:12.578119",
     "exception": false,
     "start_time": "2025-03-18T15:00:11.394947",
     "status": "completed"
    },
    "tags": []
   },
   "outputs": [],
   "source": [
    "# 4. Load and transform as testing all test data\n",
    "test_dataset = datasets.ImageFolder(\n",
    "    root=os.path.join(dataset_path, 'test'), transform=val_test_transform)"
   ]
  },
  {
   "cell_type": "markdown",
   "id": "d63ecd17",
   "metadata": {
    "papermill": {
     "duration": 0.002419,
     "end_time": "2025-03-18T15:00:12.583519",
     "exception": false,
     "start_time": "2025-03-18T15:00:12.581100",
     "status": "completed"
    },
    "tags": []
   },
   "source": [
    "## Generating data batches"
   ]
  },
  {
   "cell_type": "code",
   "execution_count": 9,
   "id": "ca7b9a49",
   "metadata": {
    "execution": {
     "iopub.execute_input": "2025-03-18T15:00:12.589374Z",
     "iopub.status.busy": "2025-03-18T15:00:12.589161Z",
     "iopub.status.idle": "2025-03-18T15:00:12.593115Z",
     "shell.execute_reply": "2025-03-18T15:00:12.592428Z"
    },
    "papermill": {
     "duration": 0.008163,
     "end_time": "2025-03-18T15:00:12.594238",
     "exception": false,
     "start_time": "2025-03-18T15:00:12.586075",
     "status": "completed"
    },
    "tags": []
   },
   "outputs": [],
   "source": [
    "train_loader = DataLoader(train_dataset, batch_size=32, shuffle=True)\n",
    "val_loader = DataLoader(val_dataset, batch_size=32, shuffle=False)\n",
    "test_loader = DataLoader(test_dataset, batch_size=32, shuffle=False)"
   ]
  }
 ],
 "metadata": {
  "kaggle": {
   "accelerator": "nvidiaTeslaT4",
   "dataSources": [
    {
     "datasetId": 4437563,
     "sourceId": 7618846,
     "sourceType": "datasetVersion"
    }
   ],
   "dockerImageVersionId": 30919,
   "isGpuEnabled": true,
   "isInternetEnabled": false,
   "language": "python",
   "sourceType": "notebook"
  },
  "kernelspec": {
   "display_name": "Python 3",
   "language": "python",
   "name": "python3"
  },
  "language_info": {
   "codemirror_mode": {
    "name": "ipython",
    "version": 3
   },
   "file_extension": ".py",
   "mimetype": "text/x-python",
   "name": "python",
   "nbconvert_exporter": "python",
   "pygments_lexer": "ipython3",
   "version": "3.10.12"
  },
  "papermill": {
   "default_parameters": {},
   "duration": 25.242951,
   "end_time": "2025-03-18T15:00:15.058934",
   "environment_variables": {},
   "exception": null,
   "input_path": "__notebook__.ipynb",
   "output_path": "__notebook__.ipynb",
   "parameters": {},
   "start_time": "2025-03-18T14:59:49.815983",
   "version": "2.6.0"
  }
 },
 "nbformat": 4,
 "nbformat_minor": 5
}
