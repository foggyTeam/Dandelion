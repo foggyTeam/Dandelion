{
 "cells": [
  {
   "cell_type": "markdown",
   "id": "96e47e7f",
   "metadata": {
    "papermill": {
     "duration": 0.006816,
     "end_time": "2025-03-19T11:35:26.449462",
     "exception": false,
     "start_time": "2025-03-19T11:35:26.442646",
     "status": "completed"
    },
    "tags": []
   },
   "source": [
    "# Data preprocessing"
   ]
  },
  {
   "cell_type": "markdown",
   "id": "40de692a",
   "metadata": {
    "papermill": {
     "duration": 0.006027,
     "end_time": "2025-03-19T11:35:26.461797",
     "exception": false,
     "start_time": "2025-03-19T11:35:26.455770",
     "status": "completed"
    },
    "tags": []
   },
   "source": [
    "Using dataset National Flowers, which has 9 classes of flowers:\n",
    "\n",
    "- daisy\n",
    "- dandelion\n",
    "- lavender\n",
    "- lilly\n",
    "- lotus\n",
    "- orchid\n",
    "- rose\n",
    "- sunflower\n",
    "- tulip\n",
    "---------"
   ]
  },
  {
   "cell_type": "markdown",
   "id": "a3dba703",
   "metadata": {
    "papermill": {
     "duration": 0.005843,
     "end_time": "2025-03-19T11:35:26.473613",
     "exception": false,
     "start_time": "2025-03-19T11:35:26.467770",
     "status": "completed"
    },
    "tags": []
   },
   "source": [
    "## Loading data"
   ]
  },
  {
   "cell_type": "markdown",
   "id": "143110c3",
   "metadata": {
    "papermill": {
     "duration": 0.005826,
     "end_time": "2025-03-19T11:35:26.485409",
     "exception": false,
     "start_time": "2025-03-19T11:35:26.479583",
     "status": "completed"
    },
    "tags": []
   },
   "source": [
    "We need to load data and split it into 3 pieces:\n",
    "- 20% test\n",
    "- 16% validation\n",
    "- 64% train"
   ]
  },
  {
   "cell_type": "code",
   "execution_count": 1,
   "id": "d8baaa17",
   "metadata": {
    "execution": {
     "iopub.execute_input": "2025-03-19T11:35:26.498425Z",
     "iopub.status.busy": "2025-03-19T11:35:26.498208Z",
     "iopub.status.idle": "2025-03-19T11:35:33.750930Z",
     "shell.execute_reply": "2025-03-19T11:35:33.750287Z"
    },
    "papermill": {
     "duration": 7.260857,
     "end_time": "2025-03-19T11:35:33.752421",
     "exception": false,
     "start_time": "2025-03-19T11:35:26.491564",
     "status": "completed"
    },
    "tags": []
   },
   "outputs": [],
   "source": [
    "import os\n",
    "import random\n",
    "import shutil\n",
    "import torch\n",
    "from torchvision import datasets, transforms\n",
    "from torch.utils.data import DataLoader, random_split, Subset"
   ]
  },
  {
   "cell_type": "code",
   "execution_count": 2,
   "id": "2c1dff2c",
   "metadata": {
    "execution": {
     "iopub.execute_input": "2025-03-19T11:35:33.765887Z",
     "iopub.status.busy": "2025-03-19T11:35:33.765574Z",
     "iopub.status.idle": "2025-03-19T11:35:33.769725Z",
     "shell.execute_reply": "2025-03-19T11:35:33.769125Z"
    },
    "papermill": {
     "duration": 0.011997,
     "end_time": "2025-03-19T11:35:33.770877",
     "exception": false,
     "start_time": "2025-03-19T11:35:33.758880",
     "status": "completed"
    },
    "tags": []
   },
   "outputs": [],
   "source": [
    "# Train data normalizing and augmentation settings:\n",
    "train_transform = transforms.Compose([\n",
    "    transforms.Resize((224, 224)),\n",
    "    transforms.RandomHorizontalFlip(),\n",
    "    transforms.RandomVerticalFlip(),\n",
    "    transforms.RandomRotation(20),\n",
    "    transforms.ToTensor(),\n",
    "    transforms.Normalize(mean=[0.485, 0.456, 0.406], std=[0.229, 0.224, 0.225])\n",
    "])"
   ]
  },
  {
   "cell_type": "code",
   "execution_count": 3,
   "id": "a0d63dc6",
   "metadata": {
    "execution": {
     "iopub.execute_input": "2025-03-19T11:35:33.783812Z",
     "iopub.status.busy": "2025-03-19T11:35:33.783606Z",
     "iopub.status.idle": "2025-03-19T11:35:33.786914Z",
     "shell.execute_reply": "2025-03-19T11:35:33.786332Z"
    },
    "papermill": {
     "duration": 0.011184,
     "end_time": "2025-03-19T11:35:33.788055",
     "exception": false,
     "start_time": "2025-03-19T11:35:33.776871",
     "status": "completed"
    },
    "tags": []
   },
   "outputs": [],
   "source": [
    "# Val and test data normalizing and augmentation settings:\n",
    "val_test_transform = transforms.Compose([\n",
    "    transforms.Resize((224, 224)),\n",
    "    transforms.ToTensor(),\n",
    "    transforms.Normalize(mean=[0.485, 0.456, 0.406], std=[0.229, 0.224, 0.225])\n",
    "])"
   ]
  },
  {
   "cell_type": "code",
   "execution_count": 4,
   "id": "5b29b45e",
   "metadata": {
    "execution": {
     "iopub.execute_input": "2025-03-19T11:35:33.800787Z",
     "iopub.status.busy": "2025-03-19T11:35:33.800564Z",
     "iopub.status.idle": "2025-03-19T11:35:33.811918Z",
     "shell.execute_reply": "2025-03-19T11:35:33.811152Z"
    },
    "papermill": {
     "duration": 0.019196,
     "end_time": "2025-03-19T11:35:33.813228",
     "exception": false,
     "start_time": "2025-03-19T11:35:33.794032",
     "status": "completed"
    },
    "tags": []
   },
   "outputs": [],
   "source": [
    "dataset_path = \"/kaggle/input/national-flowers-vdandelion/National Flowers vDandelion\"\n",
    "class_names = os.listdir(os.path.join(dataset_path, 'train'))\n",
    "number_of_classes = len(class_names)"
   ]
  },
  {
   "cell_type": "code",
   "execution_count": 5,
   "id": "419308ec",
   "metadata": {
    "execution": {
     "iopub.execute_input": "2025-03-19T11:35:33.826031Z",
     "iopub.status.busy": "2025-03-19T11:35:33.825812Z",
     "iopub.status.idle": "2025-03-19T11:35:41.737365Z",
     "shell.execute_reply": "2025-03-19T11:35:41.736676Z"
    },
    "papermill": {
     "duration": 7.919522,
     "end_time": "2025-03-19T11:35:41.738833",
     "exception": false,
     "start_time": "2025-03-19T11:35:33.819311",
     "status": "completed"
    },
    "tags": []
   },
   "outputs": [],
   "source": [
    "# 1. Load and transform as training all train data\n",
    "full_train_dataset = datasets.ImageFolder(\n",
    "    root=os.path.join(dataset_path, 'train'), transform=train_transform)"
   ]
  },
  {
   "cell_type": "code",
   "execution_count": 6,
   "id": "9e76ff84",
   "metadata": {
    "execution": {
     "iopub.execute_input": "2025-03-19T11:35:41.752395Z",
     "iopub.status.busy": "2025-03-19T11:35:41.752164Z",
     "iopub.status.idle": "2025-03-19T11:35:41.771840Z",
     "shell.execute_reply": "2025-03-19T11:35:41.771042Z"
    },
    "papermill": {
     "duration": 0.027585,
     "end_time": "2025-03-19T11:35:41.772984",
     "exception": false,
     "start_time": "2025-03-19T11:35:41.745399",
     "status": "completed"
    },
    "tags": []
   },
   "outputs": [],
   "source": [
    "# 2. Split train data into train and validation data\n",
    "train_size = int(0.8 * len(full_train_dataset))\n",
    "val_size = len(full_train_dataset) - train_size\n",
    "train_dataset, val_dataset = random_split(full_train_dataset, [train_size, val_size])"
   ]
  },
  {
   "cell_type": "code",
   "execution_count": 7,
   "id": "3e8f532b",
   "metadata": {
    "execution": {
     "iopub.execute_input": "2025-03-19T11:35:41.785655Z",
     "iopub.status.busy": "2025-03-19T11:35:41.785452Z",
     "iopub.status.idle": "2025-03-19T11:35:43.030225Z",
     "shell.execute_reply": "2025-03-19T11:35:43.029562Z"
    },
    "papermill": {
     "duration": 1.252665,
     "end_time": "2025-03-19T11:35:43.031601",
     "exception": false,
     "start_time": "2025-03-19T11:35:41.778936",
     "status": "completed"
    },
    "tags": []
   },
   "outputs": [],
   "source": [
    "# 3. Load and transform as validation only already splitted val data\n",
    "val_dataset = Subset(datasets.ImageFolder(\n",
    "    root=os.path.join(dataset_path, 'train'), transform=val_test_transform), val_dataset.indices)"
   ]
  },
  {
   "cell_type": "code",
   "execution_count": 8,
   "id": "d23bd6d6",
   "metadata": {
    "execution": {
     "iopub.execute_input": "2025-03-19T11:35:43.044754Z",
     "iopub.status.busy": "2025-03-19T11:35:43.044527Z",
     "iopub.status.idle": "2025-03-19T11:35:43.898456Z",
     "shell.execute_reply": "2025-03-19T11:35:43.897789Z"
    },
    "papermill": {
     "duration": 0.861828,
     "end_time": "2025-03-19T11:35:43.899815",
     "exception": false,
     "start_time": "2025-03-19T11:35:43.037987",
     "status": "completed"
    },
    "tags": []
   },
   "outputs": [],
   "source": [
    "# 4. Load and transform as testing all test data\n",
    "test_dataset = datasets.ImageFolder(\n",
    "    root=os.path.join(dataset_path, 'test'), transform=val_test_transform)"
   ]
  },
  {
   "cell_type": "markdown",
   "id": "c76176cd",
   "metadata": {
    "papermill": {
     "duration": 0.005833,
     "end_time": "2025-03-19T11:35:43.912073",
     "exception": false,
     "start_time": "2025-03-19T11:35:43.906240",
     "status": "completed"
    },
    "tags": []
   },
   "source": [
    "## Generating data batches"
   ]
  },
  {
   "cell_type": "code",
   "execution_count": 9,
   "id": "48280f67",
   "metadata": {
    "execution": {
     "iopub.execute_input": "2025-03-19T11:35:43.924796Z",
     "iopub.status.busy": "2025-03-19T11:35:43.924584Z",
     "iopub.status.idle": "2025-03-19T11:35:43.928262Z",
     "shell.execute_reply": "2025-03-19T11:35:43.927618Z"
    },
    "papermill": {
     "duration": 0.011334,
     "end_time": "2025-03-19T11:35:43.929413",
     "exception": false,
     "start_time": "2025-03-19T11:35:43.918079",
     "status": "completed"
    },
    "tags": []
   },
   "outputs": [],
   "source": [
    "train_loader = DataLoader(train_dataset, batch_size=32, shuffle=True)\n",
    "val_loader = DataLoader(val_dataset, batch_size=32, shuffle=False)\n",
    "test_loader = DataLoader(test_dataset, batch_size=32, shuffle=False)"
   ]
  },
  {
   "cell_type": "code",
   "execution_count": 10,
   "id": "bc82c743",
   "metadata": {
    "execution": {
     "iopub.execute_input": "2025-03-19T11:35:43.942697Z",
     "iopub.status.busy": "2025-03-19T11:35:43.942485Z",
     "iopub.status.idle": "2025-03-19T11:35:43.946258Z",
     "shell.execute_reply": "2025-03-19T11:35:43.945656Z"
    },
    "papermill": {
     "duration": 0.012079,
     "end_time": "2025-03-19T11:35:43.947503",
     "exception": false,
     "start_time": "2025-03-19T11:35:43.935424",
     "status": "completed"
    },
    "tags": []
   },
   "outputs": [],
   "source": [
    "# Function to colorize output\n",
    "def colored_print(text: str, color: str = 'grey'):\n",
    "    if color == 'grey':\n",
    "        print(f\"\\033[90m{text}\\033[0m\")\n",
    "    elif color == 'r':\n",
    "        print(f\"\\033[91m{text}\\033[0m\")\n",
    "    elif color == 'g':\n",
    "        print(f\"\\033[92m{text}\\033[0m\")\n",
    "    elif color == 'y':\n",
    "        print(f\"\\033[93m{text}\\033[0m\")\n",
    "    elif color == 'm':\n",
    "        print(f\"\\033[95m{text}\\033[0m\")\n",
    "    elif color == 'c':\n",
    "        print(f\"\\033[96m{text}\\033[0m\")"
   ]
  },
  {
   "cell_type": "markdown",
   "id": "054b1b44",
   "metadata": {
    "papermill": {
     "duration": 0.005798,
     "end_time": "2025-03-19T11:35:43.959257",
     "exception": false,
     "start_time": "2025-03-19T11:35:43.953459",
     "status": "completed"
    },
    "tags": []
   },
   "source": [
    "## Saving and fetching best params"
   ]
  },
  {
   "cell_type": "code",
   "execution_count": 11,
   "id": "50fe092f",
   "metadata": {
    "execution": {
     "iopub.execute_input": "2025-03-19T11:35:43.971705Z",
     "iopub.status.busy": "2025-03-19T11:35:43.971509Z",
     "iopub.status.idle": "2025-03-19T11:35:43.974360Z",
     "shell.execute_reply": "2025-03-19T11:35:43.973714Z"
    },
    "papermill": {
     "duration": 0.010284,
     "end_time": "2025-03-19T11:35:43.975393",
     "exception": false,
     "start_time": "2025-03-19T11:35:43.965109",
     "status": "completed"
    },
    "tags": []
   },
   "outputs": [],
   "source": [
    "# Fetching best models' params from GitHub\n",
    "best_models_path = \"/kaggle/working/\""
   ]
  },
  {
   "cell_type": "markdown",
   "id": "c29e94b1",
   "metadata": {
    "papermill": {
     "duration": 0.006532,
     "end_time": "2025-03-19T11:35:43.988362",
     "exception": false,
     "start_time": "2025-03-19T11:35:43.981830",
     "status": "completed"
    },
    "tags": []
   },
   "source": [
    "# Building and training models"
   ]
  },
  {
   "cell_type": "markdown",
   "id": "23970032",
   "metadata": {
    "papermill": {
     "duration": 0.006236,
     "end_time": "2025-03-19T11:35:44.000925",
     "exception": false,
     "start_time": "2025-03-19T11:35:43.994689",
     "status": "completed"
    },
    "tags": []
   },
   "source": [
    "We are going to build, train and score 4 models:\n",
    "\n",
    "- simple custom CNN model\n",
    "- pretrained ResNet50\n",
    "- pretrained MobileNet\n",
    "- pretrained EfficientNet"
   ]
  },
  {
   "cell_type": "markdown",
   "id": "f1fe4770",
   "metadata": {
    "papermill": {
     "duration": 0.00613,
     "end_time": "2025-03-19T11:35:44.013350",
     "exception": false,
     "start_time": "2025-03-19T11:35:44.007220",
     "status": "completed"
    },
    "tags": []
   },
   "source": [
    "## Simple CNN"
   ]
  },
  {
   "cell_type": "code",
   "execution_count": 12,
   "id": "584a998e",
   "metadata": {
    "execution": {
     "iopub.execute_input": "2025-03-19T11:35:44.026605Z",
     "iopub.status.busy": "2025-03-19T11:35:44.026401Z",
     "iopub.status.idle": "2025-03-19T11:35:44.029672Z",
     "shell.execute_reply": "2025-03-19T11:35:44.029047Z"
    },
    "papermill": {
     "duration": 0.011369,
     "end_time": "2025-03-19T11:35:44.030960",
     "exception": false,
     "start_time": "2025-03-19T11:35:44.019591",
     "status": "completed"
    },
    "tags": []
   },
   "outputs": [],
   "source": [
    "import torch\n",
    "import torch.nn as nn\n",
    "import torch.optim as optim\n",
    "import torch.nn.functional as F\n",
    "from torch.utils.data import DataLoader"
   ]
  },
  {
   "cell_type": "code",
   "execution_count": 13,
   "id": "8034ff7f",
   "metadata": {
    "execution": {
     "iopub.execute_input": "2025-03-19T11:35:44.044747Z",
     "iopub.status.busy": "2025-03-19T11:35:44.044538Z",
     "iopub.status.idle": "2025-03-19T11:35:44.048798Z",
     "shell.execute_reply": "2025-03-19T11:35:44.048198Z"
    },
    "papermill": {
     "duration": 0.012422,
     "end_time": "2025-03-19T11:35:44.050020",
     "exception": false,
     "start_time": "2025-03-19T11:35:44.037598",
     "status": "completed"
    },
    "tags": []
   },
   "outputs": [],
   "source": [
    "# Initialising a simple CNN model\n",
    "class SimpleCNN(nn.Module):\n",
    "    def __init__(self, number_of_classes):\n",
    "        super(SimpleCNN, self).__init__()\n",
    "        self.conv1 = nn.Conv2d(3, 32, kernel_size=3, stride=1, padding=1)\n",
    "        self.pool = nn.MaxPool2d(kernel_size=2, stride=2, padding=0)\n",
    "        self.fc1 = nn.Linear(32 * 112 * 112, number_of_classes)\n",
    "    \n",
    "    def forward(self, x):\n",
    "        x = self.pool(F.relu(self.conv1(x)))\n",
    "        x = x.view(-1, 32 * 112 * 112)\n",
    "        x = self.fc1(x)\n",
    "        return x"
   ]
  },
  {
   "cell_type": "code",
   "execution_count": 14,
   "id": "54e8725d",
   "metadata": {
    "execution": {
     "iopub.execute_input": "2025-03-19T11:35:44.063785Z",
     "iopub.status.busy": "2025-03-19T11:35:44.063580Z",
     "iopub.status.idle": "2025-03-19T11:42:53.352206Z",
     "shell.execute_reply": "2025-03-19T11:42:53.351067Z"
    },
    "papermill": {
     "duration": 429.297316,
     "end_time": "2025-03-19T11:42:53.353863",
     "exception": false,
     "start_time": "2025-03-19T11:35:44.056547",
     "status": "completed"
    },
    "tags": []
   },
   "outputs": [
    {
     "name": "stdout",
     "output_type": "stream",
     "text": [
      "\u001b[92mSimple CNN\u001b[0m\n",
      "\u001b[90mUsing device: cuda\u001b[0m\n",
      "\n",
      "Epoch [1/20], Loss: 28.26\n",
      "Validation Loss: 5.57, Accuracy: 49.72\n",
      "\n",
      "Epoch [2/20], Loss: 6.38\n",
      "Validation Loss: 3.54, Accuracy: 48.89\n",
      "\n",
      "Epoch [3/20], Loss: 4.07\n",
      "Validation Loss: 3.57, Accuracy: 47.78\n",
      "\n",
      "Epoch [4/20], Loss: 3.30\n",
      "Validation Loss: 3.06, Accuracy: 52.36\n",
      "\n",
      "Epoch [5/20], Loss: 2.92\n",
      "Validation Loss: 2.78, Accuracy: 51.81\n",
      "\n",
      "Epoch [6/20], Loss: 2.32\n",
      "Validation Loss: 2.17, Accuracy: 55.42\n",
      "\n",
      "Epoch [7/20], Loss: 1.80\n",
      "Validation Loss: 1.81, Accuracy: 57.36\n",
      "\n",
      "Epoch [8/20], Loss: 1.68\n",
      "Validation Loss: 1.75, Accuracy: 57.92\n",
      "\n",
      "Epoch [9/20], Loss: 1.42\n",
      "Validation Loss: 1.61, Accuracy: 60.97\n",
      "\n",
      "Epoch [10/20], Loss: 1.34\n",
      "Validation Loss: 1.52, Accuracy: 61.25\n",
      "\n",
      "Epoch [11/20], Loss: 1.30\n",
      "Validation Loss: 1.47, Accuracy: 59.72\n",
      "\n",
      "Epoch [12/20], Loss: 1.14\n",
      "Validation Loss: 1.44, Accuracy: 61.67\n",
      "\n",
      "Epoch [13/20], Loss: 1.13\n",
      "Validation Loss: 1.47, Accuracy: 59.58\n",
      "\n",
      "Epoch [14/20], Loss: 1.04\n",
      "Validation Loss: 1.35, Accuracy: 61.53\n",
      "\n",
      "Epoch [15/20], Loss: 1.10\n",
      "Validation Loss: 1.36, Accuracy: 60.42\n",
      "\n",
      "Epoch [16/20], Loss: 1.02\n",
      "Validation Loss: 1.37, Accuracy: 61.81\n",
      "\n",
      "Epoch [17/20], Loss: 1.01\n",
      "Validation Loss: 1.31, Accuracy: 63.47\n",
      "\n",
      "Epoch [18/20], Loss: 0.99\n",
      "Validation Loss: 1.44, Accuracy: 59.44\n",
      "\n",
      "Epoch [19/20], Loss: 0.99\n",
      "Validation Loss: 1.41, Accuracy: 61.11\n",
      "\n",
      "Epoch [20/20], Loss: 0.96\n",
      "Validation Loss: 1.37, Accuracy: 64.72\n",
      "\u001b[92m\n",
      "Best accuracy achieved: 64.72\u001b[0m\n"
     ]
    }
   ],
   "source": [
    "def train_cnn():\n",
    "    colored_print(f'Simple CNN', 'g')\n",
    "    # using GPU if available\n",
    "    device = torch.device(\"cuda\" if torch.cuda.is_available() else \"cpu\")\n",
    "    colored_print(f'Using device: {device}')\n",
    "\n",
    "    cnn = SimpleCNN(number_of_classes).to(device)\n",
    "\n",
    "    # defining loss function and optimizer\n",
    "    criterion = nn.CrossEntropyLoss()\n",
    "    optimizer = optim.Adam(cnn.parameters(), lr=0.001)\n",
    "\n",
    "    # training a model\n",
    "    epochs = 20\n",
    "    best_cnn_params = dict({})\n",
    "    best_cnn_accuracy = 0\n",
    "    for epoch in range(epochs):\n",
    "        cnn.train()\n",
    "        running_loss = 0.0\n",
    "        \n",
    "        for images, labels in train_loader:\n",
    "            images, labels = images.to(device), labels.to(device)\n",
    "            \n",
    "            optimizer.zero_grad()\n",
    "            outputs = cnn(images)\n",
    "            loss = criterion(outputs, labels)\n",
    "            loss.backward()\n",
    "            optimizer.step()\n",
    "            running_loss += loss.item()\n",
    "\n",
    "        print(f'\\nEpoch [{epoch+1}/{epochs}], Loss: {running_loss/len(train_loader):.2f}')\n",
    "\n",
    "        # validation\n",
    "        cnn.eval()\n",
    "        val_loss = 0.0\n",
    "        correct = 0\n",
    "        total = 0\n",
    "        with torch.no_grad():\n",
    "            for images, labels in val_loader:\n",
    "                images, labels = images.to(device), labels.to(device)\n",
    "                \n",
    "                outputs = cnn(images)\n",
    "                loss = criterion(outputs, labels)\n",
    "                val_loss += loss.item()\n",
    "                _, predicted = torch.max(outputs.data, 1)\n",
    "                total += labels.size(0)\n",
    "                correct += (predicted == labels).sum().item()\n",
    "\n",
    "        validation_accuracy = 100 * correct / total\n",
    "        print(f'Validation Loss: {val_loss/len(val_loader):.2f}, Accuracy: {validation_accuracy:.2f}')\n",
    "        \n",
    "        # save params if accuracy is better\n",
    "        if validation_accuracy > best_cnn_accuracy:\n",
    "            best_cnn_accuracy = validation_accuracy\n",
    "            best_cnn_params = cnn.state_dict()\n",
    "            \n",
    "        \n",
    "    # load params with the best accuracy\n",
    "    cnn.load_state_dict(best_cnn_params)\n",
    "    colored_print(f'\\nBest accuracy achieved: {best_cnn_accuracy:.2f}', 'g')\n",
    "    return cnn\n",
    "    \n",
    "cnn = train_cnn()"
   ]
  },
  {
   "cell_type": "code",
   "execution_count": 15,
   "id": "66f45b73",
   "metadata": {
    "execution": {
     "iopub.execute_input": "2025-03-19T11:42:53.371296Z",
     "iopub.status.busy": "2025-03-19T11:42:53.371003Z",
     "iopub.status.idle": "2025-03-19T11:42:53.397191Z",
     "shell.execute_reply": "2025-03-19T11:42:53.396349Z"
    },
    "papermill": {
     "duration": 0.03615,
     "end_time": "2025-03-19T11:42:53.398501",
     "exception": false,
     "start_time": "2025-03-19T11:42:53.362351",
     "status": "completed"
    },
    "tags": []
   },
   "outputs": [],
   "source": [
    "torch.save(cnn.state_dict(), os.path.join(best_models_path, 'cnn.pth'))"
   ]
  },
  {
   "cell_type": "markdown",
   "id": "c1fc09f4",
   "metadata": {
    "papermill": {
     "duration": 0.007508,
     "end_time": "2025-03-19T11:42:53.413921",
     "exception": false,
     "start_time": "2025-03-19T11:42:53.406413",
     "status": "completed"
    },
    "tags": []
   },
   "source": [
    "## ResNet50"
   ]
  },
  {
   "cell_type": "code",
   "execution_count": 16,
   "id": "7d38e8de",
   "metadata": {
    "execution": {
     "iopub.execute_input": "2025-03-19T11:42:53.430178Z",
     "iopub.status.busy": "2025-03-19T11:42:53.429818Z",
     "iopub.status.idle": "2025-03-19T11:42:53.433278Z",
     "shell.execute_reply": "2025-03-19T11:42:53.432503Z"
    },
    "papermill": {
     "duration": 0.012898,
     "end_time": "2025-03-19T11:42:53.434522",
     "exception": false,
     "start_time": "2025-03-19T11:42:53.421624",
     "status": "completed"
    },
    "tags": []
   },
   "outputs": [],
   "source": [
    "import torch\n",
    "import torch.optim as optim\n",
    "import torchvision.models as models"
   ]
  },
  {
   "cell_type": "code",
   "execution_count": 17,
   "id": "9d1aef03",
   "metadata": {
    "execution": {
     "iopub.execute_input": "2025-03-19T11:42:53.450652Z",
     "iopub.status.busy": "2025-03-19T11:42:53.450451Z",
     "iopub.status.idle": "2025-03-19T11:42:54.611070Z",
     "shell.execute_reply": "2025-03-19T11:42:54.610161Z"
    },
    "papermill": {
     "duration": 1.170295,
     "end_time": "2025-03-19T11:42:54.612729",
     "exception": false,
     "start_time": "2025-03-19T11:42:53.442434",
     "status": "completed"
    },
    "tags": []
   },
   "outputs": [
    {
     "name": "stderr",
     "output_type": "stream",
     "text": [
      "/usr/local/lib/python3.10/dist-packages/torchvision/models/_utils.py:208: UserWarning: The parameter 'pretrained' is deprecated since 0.13 and may be removed in the future, please use 'weights' instead.\n",
      "  warnings.warn(\n",
      "/usr/local/lib/python3.10/dist-packages/torchvision/models/_utils.py:223: UserWarning: Arguments other than a weight enum or `None` for 'weights' are deprecated since 0.13 and may be removed in the future. The current behavior is equivalent to passing `weights=ResNet50_Weights.IMAGENET1K_V1`. You can also use `weights=ResNet50_Weights.DEFAULT` to get the most up-to-date weights.\n",
      "  warnings.warn(msg)\n",
      "Downloading: \"https://download.pytorch.org/models/resnet50-0676ba61.pth\" to /root/.cache/torch/hub/checkpoints/resnet50-0676ba61.pth\n",
      "100%|██████████| 97.8M/97.8M [00:00<00:00, 185MB/s]\n"
     ]
    }
   ],
   "source": [
    "# Initialising a ResNet50 model\n",
    "resnet50 = models.resnet50(pretrained=True)\n",
    "number_of_features = resnet50.fc.in_features\n",
    "resnet50.fc = nn.Linear(number_of_features, number_of_classes)"
   ]
  },
  {
   "cell_type": "code",
   "execution_count": 18,
   "id": "4777102f",
   "metadata": {
    "execution": {
     "iopub.execute_input": "2025-03-19T11:42:54.630992Z",
     "iopub.status.busy": "2025-03-19T11:42:54.630756Z",
     "iopub.status.idle": "2025-03-19T12:06:42.457713Z",
     "shell.execute_reply": "2025-03-19T12:06:42.456678Z"
    },
    "papermill": {
     "duration": 1427.837762,
     "end_time": "2025-03-19T12:06:42.459285",
     "exception": false,
     "start_time": "2025-03-19T11:42:54.621523",
     "status": "completed"
    },
    "tags": []
   },
   "outputs": [
    {
     "name": "stdout",
     "output_type": "stream",
     "text": [
      "\u001b[92mResNet50\u001b[0m\n",
      "\u001b[90mUsing device: cuda\u001b[0m\n",
      "\n",
      "Epoch [1/50], Loss: 1.19\n",
      "Validation Loss: 0.70, Accuracy: 80.97\n",
      "\n",
      "Epoch [2/50], Loss: 0.70\n",
      "Validation Loss: 0.55, Accuracy: 81.11\n",
      "\n",
      "Epoch [3/50], Loss: 0.59\n",
      "Validation Loss: 0.48, Accuracy: 85.28\n",
      "\n",
      "Epoch [4/50], Loss: 0.53\n",
      "Validation Loss: 0.43, Accuracy: 86.67\n",
      "\n",
      "Epoch [5/50], Loss: 0.50\n",
      "Validation Loss: 0.41, Accuracy: 88.06\n",
      "\n",
      "Epoch [6/50], Loss: 0.46\n",
      "Validation Loss: 0.45, Accuracy: 85.69\n",
      "\n",
      "Epoch [7/50], Loss: 0.44\n",
      "Validation Loss: 0.42, Accuracy: 86.25\n",
      "\n",
      "Epoch [8/50], Loss: 0.45\n",
      "Validation Loss: 0.40, Accuracy: 87.64\n",
      "\n",
      "Epoch [9/50], Loss: 0.41\n",
      "Validation Loss: 0.38, Accuracy: 89.03\n",
      "\n",
      "Epoch [10/50], Loss: 0.40\n",
      "Validation Loss: 0.38, Accuracy: 87.78\n",
      "\n",
      "Epoch [11/50], Loss: 0.40\n",
      "Validation Loss: 0.38, Accuracy: 87.64\n",
      "\n",
      "Epoch [12/50], Loss: 0.40\n",
      "Validation Loss: 0.40, Accuracy: 87.50\n",
      "\n",
      "Epoch [13/50], Loss: 0.38\n",
      "Validation Loss: 0.39, Accuracy: 87.36\n",
      "\n",
      "Epoch [14/50], Loss: 0.37\n",
      "Validation Loss: 0.36, Accuracy: 89.17\n",
      "\n",
      "Epoch [15/50], Loss: 0.36\n",
      "Validation Loss: 0.40, Accuracy: 87.08\n",
      "\n",
      "Epoch [16/50], Loss: 0.38\n",
      "Validation Loss: 0.39, Accuracy: 87.22\n",
      "\n",
      "Epoch [17/50], Loss: 0.37\n",
      "Validation Loss: 0.45, Accuracy: 85.42\n",
      "\n",
      "Epoch [18/50], Loss: 0.34\n",
      "Validation Loss: 0.37, Accuracy: 88.47\n",
      "\n",
      "Epoch [19/50], Loss: 0.34\n",
      "Validation Loss: 0.42, Accuracy: 84.72\n",
      "\n",
      "Epoch [20/50], Loss: 0.36\n",
      "Validation Loss: 0.36, Accuracy: 89.03\n",
      "\n",
      "Epoch [21/50], Loss: 0.36\n",
      "Validation Loss: 0.36, Accuracy: 88.89\n",
      "\n",
      "Epoch [22/50], Loss: 0.31\n",
      "Validation Loss: 0.36, Accuracy: 89.17\n",
      "\n",
      "Epoch [23/50], Loss: 0.34\n",
      "Validation Loss: 0.35, Accuracy: 88.75\n",
      "\n",
      "Epoch [24/50], Loss: 0.33\n",
      "Validation Loss: 0.35, Accuracy: 88.33\n",
      "\n",
      "Epoch [25/50], Loss: 0.31\n",
      "Validation Loss: 0.37, Accuracy: 88.75\n",
      "\n",
      "Epoch [26/50], Loss: 0.29\n",
      "Validation Loss: 0.36, Accuracy: 88.47\n",
      "\n",
      "Epoch [27/50], Loss: 0.30\n",
      "Validation Loss: 0.38, Accuracy: 87.78\n",
      "\n",
      "Epoch [28/50], Loss: 0.33\n",
      "Validation Loss: 0.39, Accuracy: 87.64\n",
      "\n",
      "Epoch [29/50], Loss: 0.31\n",
      "Validation Loss: 0.35, Accuracy: 89.03\n",
      "\n",
      "Epoch [30/50], Loss: 0.32\n",
      "Validation Loss: 0.36, Accuracy: 87.64\n",
      "\n",
      "Epoch [31/50], Loss: 0.29\n",
      "Validation Loss: 0.42, Accuracy: 85.97\n",
      "\n",
      "Epoch [32/50], Loss: 0.34\n",
      "Validation Loss: 0.40, Accuracy: 86.67\n",
      "\n",
      "Epoch [33/50], Loss: 0.29\n",
      "Validation Loss: 0.38, Accuracy: 87.64\n",
      "\n",
      "Epoch [34/50], Loss: 0.31\n",
      "Validation Loss: 0.37, Accuracy: 87.50\n",
      "\n",
      "Epoch [35/50], Loss: 0.31\n",
      "Validation Loss: 0.37, Accuracy: 89.31\n",
      "\n",
      "Epoch [36/50], Loss: 0.28\n",
      "Validation Loss: 0.42, Accuracy: 86.94\n",
      "\n",
      "Epoch [37/50], Loss: 0.28\n",
      "Validation Loss: 0.37, Accuracy: 88.61\n",
      "\n",
      "Epoch [38/50], Loss: 0.29\n",
      "Validation Loss: 0.43, Accuracy: 87.36\n",
      "\n",
      "Epoch [39/50], Loss: 0.30\n",
      "Validation Loss: 0.36, Accuracy: 89.31\n",
      "\n",
      "Epoch [40/50], Loss: 0.27\n",
      "Validation Loss: 0.35, Accuracy: 89.44\n",
      "\n",
      "Epoch [41/50], Loss: 0.27\n",
      "Validation Loss: 0.41, Accuracy: 86.94\n",
      "\n",
      "Epoch [42/50], Loss: 0.26\n",
      "Validation Loss: 0.36, Accuracy: 88.89\n",
      "\n",
      "Epoch [43/50], Loss: 0.28\n",
      "Validation Loss: 0.39, Accuracy: 89.03\n",
      "\n",
      "Epoch [44/50], Loss: 0.28\n",
      "Validation Loss: 0.36, Accuracy: 89.58\n",
      "\n",
      "Epoch [45/50], Loss: 0.27\n",
      "Validation Loss: 0.41, Accuracy: 88.19\n",
      "\n",
      "Epoch [46/50], Loss: 0.29\n",
      "Validation Loss: 0.37, Accuracy: 89.86\n",
      "\n",
      "Epoch [47/50], Loss: 0.26\n",
      "Validation Loss: 0.38, Accuracy: 89.31\n",
      "\n",
      "Epoch [48/50], Loss: 0.27\n",
      "Validation Loss: 0.38, Accuracy: 88.75\n",
      "\n",
      "Epoch [49/50], Loss: 0.25\n",
      "Validation Loss: 0.40, Accuracy: 86.81\n",
      "\n",
      "Epoch [50/50], Loss: 0.24\n",
      "Validation Loss: 0.39, Accuracy: 88.33\n",
      "\u001b[92m\n",
      "Best accuracy achieved: 89.86\u001b[0m\n"
     ]
    }
   ],
   "source": [
    "def train_resnet50(resnet50):\n",
    "    colored_print(f'ResNet50', 'g')\n",
    "    # using GPU if available\n",
    "    device = torch.device(\"cuda\" if torch.cuda.is_available() else \"cpu\")\n",
    "    colored_print(f'Using device: {device}')\n",
    "\n",
    "    resnet50 = resnet50.to(device)\n",
    "\n",
    "    # training last layers\n",
    "    for param in resnet50.parameters():\n",
    "        param.requires_grad = False\n",
    "    for param in resnet50.fc.parameters():\n",
    "        param.requires_grad = True\n",
    "\n",
    "    # defining loss function and optimizer\n",
    "    criterion = nn.CrossEntropyLoss()\n",
    "    optimizer = optim.Adam(resnet50.parameters(), lr=0.001)\n",
    "\n",
    "    # training a model\n",
    "    epochs = 50\n",
    "    best_resnet50_params = dict({})\n",
    "    best_resnet50_accuracy = 0\n",
    "    for epoch in range(epochs):\n",
    "        resnet50.train()\n",
    "        running_loss = 0.0\n",
    "        \n",
    "        for images, labels in train_loader:\n",
    "            images, labels = images.to(device), labels.to(device)\n",
    "            \n",
    "            optimizer.zero_grad()\n",
    "            outputs = resnet50(images)\n",
    "            loss = criterion(outputs, labels)\n",
    "            loss.backward()\n",
    "            optimizer.step()\n",
    "            running_loss += loss.item()\n",
    "\n",
    "        print(f'\\nEpoch [{epoch+1}/{epochs}], Loss: {running_loss/len(train_loader):.2f}')\n",
    "\n",
    "        # validation\n",
    "        resnet50.eval()\n",
    "        val_loss = 0.0\n",
    "        correct = 0\n",
    "        total = 0\n",
    "        with torch.no_grad():\n",
    "            for images, labels in val_loader:\n",
    "                images, labels = images.to(device), labels.to(device)\n",
    "                \n",
    "                outputs = resnet50(images)\n",
    "                loss = criterion(outputs, labels)\n",
    "                val_loss += loss.item()\n",
    "                _, predicted = torch.max(outputs.data, 1)\n",
    "                total += labels.size(0)\n",
    "                correct += (predicted == labels).sum().item()\n",
    "\n",
    "        validation_accuracy = 100 * correct / total\n",
    "        print(f'Validation Loss: {val_loss/len(val_loader):.2f}, Accuracy: {validation_accuracy:.2f}')\n",
    "        \n",
    "        # save params if accuracy is better\n",
    "        if validation_accuracy > best_resnet50_accuracy:\n",
    "            best_resnet50_accuracy = validation_accuracy\n",
    "            best_resnet50_params = resnet50.state_dict()\n",
    "            \n",
    "        \n",
    "    # load params with the best accuracy\n",
    "    resnet50.load_state_dict(best_resnet50_params)\n",
    "    colored_print(f'\\nBest accuracy achieved: {best_resnet50_accuracy:.2f}', 'g')\n",
    "\n",
    "    return resnet50\n",
    "\n",
    "resnet50 = train_resnet50(resnet50)"
   ]
  },
  {
   "cell_type": "code",
   "execution_count": 19,
   "id": "184789f2",
   "metadata": {
    "execution": {
     "iopub.execute_input": "2025-03-19T12:06:42.485839Z",
     "iopub.status.busy": "2025-03-19T12:06:42.485566Z",
     "iopub.status.idle": "2025-03-19T12:06:42.630442Z",
     "shell.execute_reply": "2025-03-19T12:06:42.629477Z"
    },
    "papermill": {
     "duration": 0.159624,
     "end_time": "2025-03-19T12:06:42.632141",
     "exception": false,
     "start_time": "2025-03-19T12:06:42.472517",
     "status": "completed"
    },
    "tags": []
   },
   "outputs": [],
   "source": [
    "torch.save(resnet50.state_dict(), os.path.join(best_models_path, 'resnet50.pth'))"
   ]
  },
  {
   "cell_type": "markdown",
   "id": "e8ba325a",
   "metadata": {
    "papermill": {
     "duration": 0.012496,
     "end_time": "2025-03-19T12:06:42.657865",
     "exception": false,
     "start_time": "2025-03-19T12:06:42.645369",
     "status": "completed"
    },
    "tags": []
   },
   "source": [
    "# Score models"
   ]
  },
  {
   "cell_type": "markdown",
   "id": "bf34651c",
   "metadata": {
    "papermill": {
     "duration": 0.012283,
     "end_time": "2025-03-19T12:06:42.682722",
     "exception": false,
     "start_time": "2025-03-19T12:06:42.670439",
     "status": "completed"
    },
    "tags": []
   },
   "source": [
    "*You need to initialize all models' classes.*\n",
    "\n",
    "- initialize a model's object\n",
    "- load best params from /best_models/model.pth\n",
    "- model is ready to be evaluated"
   ]
  },
  {
   "cell_type": "markdown",
   "id": "1e87b97c",
   "metadata": {
    "papermill": {
     "duration": 0.012191,
     "end_time": "2025-03-19T12:06:42.707348",
     "exception": false,
     "start_time": "2025-03-19T12:06:42.695157",
     "status": "completed"
    },
    "tags": []
   },
   "source": [
    "## Score function"
   ]
  },
  {
   "cell_type": "code",
   "execution_count": 20,
   "id": "536d6259",
   "metadata": {
    "execution": {
     "iopub.execute_input": "2025-03-19T12:06:42.732944Z",
     "iopub.status.busy": "2025-03-19T12:06:42.732660Z",
     "iopub.status.idle": "2025-03-19T12:06:44.823492Z",
     "shell.execute_reply": "2025-03-19T12:06:44.822782Z"
    },
    "papermill": {
     "duration": 2.105356,
     "end_time": "2025-03-19T12:06:44.824966",
     "exception": false,
     "start_time": "2025-03-19T12:06:42.719610",
     "status": "completed"
    },
    "tags": []
   },
   "outputs": [],
   "source": [
    "from sklearn.metrics import accuracy_score, f1_score, confusion_matrix\n",
    "import numpy as np\n",
    "import matplotlib.pyplot as plt\n",
    "import seaborn as sns"
   ]
  },
  {
   "cell_type": "code",
   "execution_count": 21,
   "id": "91002cee",
   "metadata": {
    "execution": {
     "iopub.execute_input": "2025-03-19T12:06:44.851977Z",
     "iopub.status.busy": "2025-03-19T12:06:44.851642Z",
     "iopub.status.idle": "2025-03-19T12:06:44.856618Z",
     "shell.execute_reply": "2025-03-19T12:06:44.855941Z"
    },
    "papermill": {
     "duration": 0.019424,
     "end_time": "2025-03-19T12:06:44.857781",
     "exception": false,
     "start_time": "2025-03-19T12:06:44.838357",
     "status": "completed"
    },
    "tags": []
   },
   "outputs": [],
   "source": [
    "def score_model(model):\n",
    "    device = torch.device(\"cuda\" if torch.cuda.is_available() else \"cpu\")\n",
    "    \n",
    "    model.eval()\n",
    "    all_labels = []\n",
    "    all_predictions = []\n",
    "\n",
    "    with torch.no_grad():\n",
    "        for images, labels in test_loader:\n",
    "            images, labels = images.to(device), labels.to(device)\n",
    "            outputs = model(images)\n",
    "            _, predicted = torch.max(outputs, 1)\n",
    "            all_labels.extend(labels.cpu().numpy())\n",
    "            all_predictions.extend(predicted.cpu().numpy())\n",
    "\n",
    "    accuracy = accuracy_score(all_labels, all_predictions)\n",
    "    f1 = f1_score(all_labels, all_predictions, average='weighted')\n",
    "    conf_matrix = confusion_matrix(all_labels, all_predictions)\n",
    "    \n",
    "    return accuracy, f1, conf_matrix"
   ]
  },
  {
   "cell_type": "code",
   "execution_count": 22,
   "id": "2657f732",
   "metadata": {
    "execution": {
     "iopub.execute_input": "2025-03-19T12:06:44.883776Z",
     "iopub.status.busy": "2025-03-19T12:06:44.883555Z",
     "iopub.status.idle": "2025-03-19T12:06:44.887512Z",
     "shell.execute_reply": "2025-03-19T12:06:44.886903Z"
    },
    "papermill": {
     "duration": 0.018265,
     "end_time": "2025-03-19T12:06:44.888632",
     "exception": false,
     "start_time": "2025-03-19T12:06:44.870367",
     "status": "completed"
    },
    "tags": []
   },
   "outputs": [],
   "source": [
    "def plot_confusion_matrix(conf_matrix, model_name, accuracy):   \n",
    "    plt.figure(figsize=(10, 8))\n",
    "    sns.heatmap(conf_matrix, annot=True, fmt='d', cmap='viridis',\n",
    "                xticklabels=class_names, yticklabels=class_names)\n",
    "    plt.xlabel('PREDICTED')\n",
    "    plt.ylabel('TRUE')\n",
    "    plt.title(f'{model_name} Confusion Matrix')\n",
    "    \n",
    "    plt.text(0.5, -0.1, f'accuracy: {accuracy:.2f}', ha='center', va='center',\n",
    "             transform=plt.gca().transAxes, fontsize=10)\n",
    "    plt.show()"
   ]
  },
  {
   "cell_type": "markdown",
   "id": "5c2afead",
   "metadata": {
    "papermill": {
     "duration": 0.012202,
     "end_time": "2025-03-19T12:06:44.913513",
     "exception": false,
     "start_time": "2025-03-19T12:06:44.901311",
     "status": "completed"
    },
    "tags": []
   },
   "source": [
    "## Score Simple CNN"
   ]
  },
  {
   "cell_type": "code",
   "execution_count": 23,
   "id": "ab6863f5",
   "metadata": {
    "collapsed": true,
    "execution": {
     "iopub.execute_input": "2025-03-19T12:06:44.938768Z",
     "iopub.status.busy": "2025-03-19T12:06:44.938554Z",
     "iopub.status.idle": "2025-03-19T12:06:44.978434Z",
     "shell.execute_reply": "2025-03-19T12:06:44.977565Z"
    },
    "jupyter": {
     "outputs_hidden": true
    },
    "papermill": {
     "duration": 0.053728,
     "end_time": "2025-03-19T12:06:44.979579",
     "exception": false,
     "start_time": "2025-03-19T12:06:44.925851",
     "status": "completed"
    },
    "tags": []
   },
   "outputs": [
    {
     "name": "stderr",
     "output_type": "stream",
     "text": [
      "<ipython-input-23-9274c6a94150>:6: FutureWarning: You are using `torch.load` with `weights_only=False` (the current default value), which uses the default pickle module implicitly. It is possible to construct malicious pickle data which will execute arbitrary code during unpickling (See https://github.com/pytorch/pytorch/blob/main/SECURITY.md#untrusted-models for more details). In a future release, the default value for `weights_only` will be flipped to `True`. This limits the functions that could be executed during unpickling. Arbitrary objects will no longer be allowed to be loaded via this mode unless they are explicitly allowlisted by the user via `torch.serialization.add_safe_globals`. We recommend you start setting `weights_only=True` for any use case where you don't have full control of the loaded file. Please open an issue on GitHub for any issues related to this experimental feature.\n",
      "  cnn.load_state_dict(torch.load(best_cnn_params_path))\n"
     ]
    },
    {
     "data": {
      "text/plain": [
       "<All keys matched successfully>"
      ]
     },
     "execution_count": 23,
     "metadata": {},
     "output_type": "execute_result"
    }
   ],
   "source": [
    "# path to best params\n",
    "best_cnn_params_path = os.path.join(best_models_path, 'cnn.pth')\n",
    "\n",
    "# load best params into model\n",
    "cnn = SimpleCNN(number_of_classes)\n",
    "cnn.load_state_dict(torch.load(best_cnn_params_path))"
   ]
  },
  {
   "cell_type": "code",
   "execution_count": 24,
   "id": "c9e3696a",
   "metadata": {
    "execution": {
     "iopub.execute_input": "2025-03-19T12:06:45.005736Z",
     "iopub.status.busy": "2025-03-19T12:06:45.005507Z",
     "iopub.status.idle": "2025-03-19T12:06:45.012175Z",
     "shell.execute_reply": "2025-03-19T12:06:45.011570Z"
    },
    "papermill": {
     "duration": 0.020812,
     "end_time": "2025-03-19T12:06:45.013297",
     "exception": false,
     "start_time": "2025-03-19T12:06:44.992485",
     "status": "completed"
    },
    "tags": []
   },
   "outputs": [],
   "source": [
    "# use GPU if available\n",
    "device = torch.device(\"cuda\" if torch.cuda.is_available() else \"cpu\")\n",
    "cnn = cnn.to(device)\n",
    "\n",
    "# model is ready for use"
   ]
  },
  {
   "cell_type": "code",
   "execution_count": 25,
   "id": "2699b5c3",
   "metadata": {
    "execution": {
     "iopub.execute_input": "2025-03-19T12:06:45.039614Z",
     "iopub.status.busy": "2025-03-19T12:06:45.039409Z",
     "iopub.status.idle": "2025-03-19T12:06:52.521950Z",
     "shell.execute_reply": "2025-03-19T12:06:52.521176Z"
    },
    "papermill": {
     "duration": 7.497595,
     "end_time": "2025-03-19T12:06:52.523854",
     "exception": false,
     "start_time": "2025-03-19T12:06:45.026259",
     "status": "completed"
    },
    "tags": []
   },
   "outputs": [],
   "source": [
    "cnn_accuracy, cnn_f1_score, cnn_confusion_matrix = score_model(cnn)"
   ]
  },
  {
   "cell_type": "code",
   "execution_count": 26,
   "id": "b284fff0",
   "metadata": {
    "execution": {
     "iopub.execute_input": "2025-03-19T12:06:52.567991Z",
     "iopub.status.busy": "2025-03-19T12:06:52.567703Z",
     "iopub.status.idle": "2025-03-19T12:06:52.986702Z",
     "shell.execute_reply": "2025-03-19T12:06:52.985784Z"
    },
    "papermill": {
     "duration": 0.442268,
     "end_time": "2025-03-19T12:06:52.988888",
     "exception": false,
     "start_time": "2025-03-19T12:06:52.546620",
     "status": "completed"
    },
    "tags": []
   },
   "outputs": [
    {
     "name": "stdout",
     "output_type": "stream",
     "text": [
      "\u001b[92mAccuracy: 0.50, f1-score: 0.49\u001b[0m\n"
     ]
    },
    {
     "data": {
      "image/png": "[encoded data removed]",
      "text/plain": [
       "<Figure size 1000x800 with 2 Axes>"
      ]
     },
     "metadata": {},
     "output_type": "display_data"
    }
   ],
   "source": [
    "colored_print(f'Accuracy: {cnn_accuracy:.2f}, f1-score: {cnn_f1_score:.2f}', 'g')\n",
    "plot_confusion_matrix(cnn_confusion_matrix, 'Simple CNN', cnn_accuracy)"
   ]
  },
  {
   "cell_type": "markdown",
   "id": "c8c0ca1b",
   "metadata": {
    "papermill": {
     "duration": 0.01363,
     "end_time": "2025-03-19T12:06:53.022899",
     "exception": false,
     "start_time": "2025-03-19T12:06:53.009269",
     "status": "completed"
    },
    "tags": []
   },
   "source": [
    "## Score ResNet50"
   ]
  },
  {
   "cell_type": "code",
   "execution_count": 27,
   "id": "0605ad18",
   "metadata": {
    "execution": {
     "iopub.execute_input": "2025-03-19T12:06:53.051282Z",
     "iopub.status.busy": "2025-03-19T12:06:53.050982Z",
     "iopub.status.idle": "2025-03-19T12:06:53.151407Z",
     "shell.execute_reply": "2025-03-19T12:06:53.150450Z"
    },
    "papermill": {
     "duration": 0.116436,
     "end_time": "2025-03-19T12:06:53.153064",
     "exception": false,
     "start_time": "2025-03-19T12:06:53.036628",
     "status": "completed"
    },
    "tags": []
   },
   "outputs": [
    {
     "name": "stderr",
     "output_type": "stream",
     "text": [
      "<ipython-input-27-cb2d8b196d9e>:5: FutureWarning: You are using `torch.load` with `weights_only=False` (the current default value), which uses the default pickle module implicitly. It is possible to construct malicious pickle data which will execute arbitrary code during unpickling (See https://github.com/pytorch/pytorch/blob/main/SECURITY.md#untrusted-models for more details). In a future release, the default value for `weights_only` will be flipped to `True`. This limits the functions that could be executed during unpickling. Arbitrary objects will no longer be allowed to be loaded via this mode unless they are explicitly allowlisted by the user via `torch.serialization.add_safe_globals`. We recommend you start setting `weights_only=True` for any use case where you don't have full control of the loaded file. Please open an issue on GitHub for any issues related to this experimental feature.\n",
      "  resnet50.load_state_dict(torch.load(best_resnet50_params_path))\n"
     ]
    },
    {
     "data": {
      "text/plain": [
       "<All keys matched successfully>"
      ]
     },
     "execution_count": 27,
     "metadata": {},
     "output_type": "execute_result"
    }
   ],
   "source": [
    "# path to best params\n",
    "best_resnet50_params_path = os.path.join(best_models_path, 'resnet50.pth')\n",
    "\n",
    "# load best params into model\n",
    "resnet50.load_state_dict(torch.load(best_resnet50_params_path))"
   ]
  },
  {
   "cell_type": "code",
   "execution_count": 28,
   "id": "be43ab84",
   "metadata": {
    "execution": {
     "iopub.execute_input": "2025-03-19T12:06:53.189532Z",
     "iopub.status.busy": "2025-03-19T12:06:53.189209Z",
     "iopub.status.idle": "2025-03-19T12:06:53.196273Z",
     "shell.execute_reply": "2025-03-19T12:06:53.195506Z"
    },
    "papermill": {
     "duration": 0.023017,
     "end_time": "2025-03-19T12:06:53.197639",
     "exception": false,
     "start_time": "2025-03-19T12:06:53.174622",
     "status": "completed"
    },
    "tags": []
   },
   "outputs": [],
   "source": [
    "# use GPU if available\n",
    "device = torch.device(\"cuda\" if torch.cuda.is_available() else \"cpu\")\n",
    "resnet50 = resnet50.to(device)\n",
    "\n",
    "# model is ready for use"
   ]
  },
  {
   "cell_type": "code",
   "execution_count": 29,
   "id": "34a317d3",
   "metadata": {
    "execution": {
     "iopub.execute_input": "2025-03-19T12:06:53.226076Z",
     "iopub.status.busy": "2025-03-19T12:06:53.225781Z",
     "iopub.status.idle": "2025-03-19T12:06:59.776257Z",
     "shell.execute_reply": "2025-03-19T12:06:59.775206Z"
    },
    "papermill": {
     "duration": 6.566996,
     "end_time": "2025-03-19T12:06:59.778466",
     "exception": false,
     "start_time": "2025-03-19T12:06:53.211470",
     "status": "completed"
    },
    "tags": []
   },
   "outputs": [],
   "source": [
    "resnet50_accuracy, resnet50_f1_score, resnet50_confusion_matrix = score_model(resnet50)"
   ]
  },
  {
   "cell_type": "code",
   "execution_count": 30,
   "id": "fdf1c40e",
   "metadata": {
    "execution": {
     "iopub.execute_input": "2025-03-19T12:06:59.818990Z",
     "iopub.status.busy": "2025-03-19T12:06:59.818726Z",
     "iopub.status.idle": "2025-03-19T12:07:00.183998Z",
     "shell.execute_reply": "2025-03-19T12:07:00.183192Z"
    },
    "papermill": {
     "duration": 0.388645,
     "end_time": "2025-03-19T12:07:00.185682",
     "exception": false,
     "start_time": "2025-03-19T12:06:59.797037",
     "status": "completed"
    },
    "tags": []
   },
   "outputs": [
    {
     "name": "stdout",
     "output_type": "stream",
     "text": [
      "\u001b[92mAccuracy: 0.84, f1-score: 0.84\u001b[0m\n"
     ]
    },
    {
     "data": {
      "image/png": "[encoded data removed]",
      "text/plain": [
       "<Figure size 1000x800 with 2 Axes>"
      ]
     },
     "metadata": {},
     "output_type": "display_data"
    }
   ],
   "source": [
    "colored_print(f'Accuracy: {resnet50_accuracy:.2f}, f1-score: {resnet50_f1_score:.2f}', 'g')\n",
    "plot_confusion_matrix(resnet50_confusion_matrix, 'ResNet50', resnet50_accuracy)"
   ]
  }
 ],
 "metadata": {
  "kaggle": {
   "accelerator": "nvidiaTeslaT4",
   "dataSources": [
    {
     "datasetId": 6910156,
     "sourceId": 11086620,
     "sourceType": "datasetVersion"
    }
   ],
   "dockerImageVersionId": 30918,
   "isGpuEnabled": true,
   "isInternetEnabled": true,
   "language": "python",
   "sourceType": "notebook"
  },
  "kernelspec": {
   "display_name": "Python 3",
   "language": "python",
   "name": "python3"
  },
  "language_info": {
   "codemirror_mode": {
    "name": "ipython",
    "version": 3
   },
   "file_extension": ".py",
   "mimetype": "text/x-python",
   "name": "python",
   "nbconvert_exporter": "python",
   "pygments_lexer": "ipython3",
   "version": "3.10.12"
  },
  "papermill": {
   "default_parameters": {},
   "duration": 1897.904994,
   "end_time": "2025-03-19T12:07:01.825004",
   "environment_variables": {},
   "exception": null,
   "input_path": "__notebook__.ipynb",
   "output_path": "__notebook__.ipynb",
   "parameters": {},
   "start_time": "2025-03-19T11:35:23.920010",
   "version": "2.6.0"
  }
 },
 "nbformat": 4,
 "nbformat_minor": 5
}
